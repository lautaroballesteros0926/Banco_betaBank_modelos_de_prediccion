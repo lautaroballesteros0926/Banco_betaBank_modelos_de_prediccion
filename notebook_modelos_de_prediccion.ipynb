{
 "cells": [
  {
   "cell_type": "markdown",
   "metadata": {},
   "source": [
    "# Sprint 10: Aprendizaje supervisado "
   ]
  },
  {
   "cell_type": "markdown",
   "metadata": {},
   "source": [
    "# Objetivos del Proyecto: \n",
    "\n",
    " - Preparación de los Datos: Asegurarse de que los datos estén limpios y listos para el entrenamiento, procesando adecuadamente todos los tipos de características. Esto incluye la normalización, manejo de valores faltantes y codificación de variables categóricas.\n",
    "\n",
    " - Documentación del Proceso de Preprocesamiento: Proporcionar una explicación clara y detallada de los pasos de preprocesamiento realizados, para que los revisores puedan entender cómo se llegó al conjunto de datos final.\n",
    "\n",
    " - Análisis del Equilibrio de Clases: Investigar el equilibrio de clases en el conjunto de datos y documentar los hallazgos. Esto incluye el uso de visualizaciones y métricas para evaluar la distribución de las clases.\n",
    "\n",
    " - Modelo Sin Desequilibrio de Clases: Estudiar el rendimiento del modelo sin aplicar técnicas para corregir el desequilibrio de clases, para establecer una línea base de comparación.\n",
    "\n",
    " - Descubrimientos en la Investigación: Identificar y documentar lo que se aprendió durante la investigación del ejercicio, incluyendo cualquier hallazgo inesperado o relevante.\n",
    "\n",
    " - División de los Datos: Asegurarse de que los datos se dividan correctamente en conjuntos de entrenamiento, validación y prueba, siguiendo las mejores prácticas.\n",
    "\n",
    " - Manejo del Desequilibrio de Clases: Implementar y documentar las técnicas utilizadas para abordar el desequilibrio de clases, asegurando que se considere este aspecto en todo momento.\n",
    "\n",
    " - Uso de Técnicas de Corrección: Aplicar al menos dos técnicas diferentes para corregir el desequilibrio de clases, como submuestreo, sobremuestreo o generación de datos sintéticos.\n",
    "\n",
    " - Entrenamiento, Validación y Pruebas: Realizar un entrenamiento, validación y pruebas finales del modelo de manera rigurosa, asegurando que cada paso se documente adecuadamente.\n",
    "\n",
    " - Evaluación de Métricas: Evaluar y reportar el valor F1 del modelo, así como los valores AUC-ROC, para medir su rendimiento en el contexto del desequilibrio de clases.\n",
    "\n",
    " - Estructura y Limpieza del Código: Mantener una estructura clara y un código limpio, que sea fácil de seguir y entender, facilitando la revisión por parte de otros.\n"
   ]
  },
  {
   "cell_type": "code",
   "execution_count": 1,
   "metadata": {},
   "outputs": [],
   "source": [
    "import pandas as pd \n",
    "from sklearn.ensemble import RandomForestClassifier\n",
    "from sklearn.linear_model import LogisticRegression\n",
    "from sklearn.model_selection import train_test_split \n",
    "from sklearn.preprocessing import OrdinalEncoder\n",
    "from sklearn.metrics import f1_score, accuracy_score, precision_score, recall_score,roc_auc_score ,roc_curve\n",
    "from sklearn.dummy import DummyClassifier\n",
    "from sklearn.utils import shuffle\n",
    "import matplotlib.pyplot as plt\n",
    "import numpy as np"
   ]
  },
  {
   "cell_type": "code",
   "execution_count": 2,
   "metadata": {},
   "outputs": [],
   "source": [
    "data = pd.read_csv('/datasets/Churn.csv')"
   ]
  },
  {
   "cell_type": "code",
   "execution_count": 3,
   "metadata": {},
   "outputs": [
    {
     "name": "stdout",
     "output_type": "stream",
     "text": [
      "<class 'pandas.core.frame.DataFrame'>\n",
      "RangeIndex: 10000 entries, 0 to 9999\n",
      "Data columns (total 14 columns):\n",
      " #   Column           Non-Null Count  Dtype  \n",
      "---  ------           --------------  -----  \n",
      " 0   RowNumber        10000 non-null  int64  \n",
      " 1   CustomerId       10000 non-null  int64  \n",
      " 2   Surname          10000 non-null  object \n",
      " 3   CreditScore      10000 non-null  int64  \n",
      " 4   Geography        10000 non-null  object \n",
      " 5   Gender           10000 non-null  object \n",
      " 6   Age              10000 non-null  int64  \n",
      " 7   Tenure           9091 non-null   float64\n",
      " 8   Balance          10000 non-null  float64\n",
      " 9   NumOfProducts    10000 non-null  int64  \n",
      " 10  HasCrCard        10000 non-null  int64  \n",
      " 11  IsActiveMember   10000 non-null  int64  \n",
      " 12  EstimatedSalary  10000 non-null  float64\n",
      " 13  Exited           10000 non-null  int64  \n",
      "dtypes: float64(3), int64(8), object(3)\n",
      "memory usage: 1.1+ MB\n"
     ]
    }
   ],
   "source": [
    "data.info()"
   ]
  },
  {
   "cell_type": "code",
   "execution_count": 4,
   "metadata": {},
   "outputs": [
    {
     "name": "stdout",
     "output_type": "stream",
     "text": [
      "   RowNumber  CustomerId   Surname  CreditScore Geography  Gender  Age  \\\n",
      "0          1    15634602  Hargrave          619    France  Female   42   \n",
      "1          2    15647311      Hill          608     Spain  Female   41   \n",
      "2          3    15619304      Onio          502    France  Female   42   \n",
      "3          4    15701354      Boni          699    France  Female   39   \n",
      "4          5    15737888  Mitchell          850     Spain  Female   43   \n",
      "\n",
      "   Tenure    Balance  NumOfProducts  HasCrCard  IsActiveMember  \\\n",
      "0     2.0       0.00              1          1               1   \n",
      "1     1.0   83807.86              1          0               1   \n",
      "2     8.0  159660.80              3          1               0   \n",
      "3     1.0       0.00              2          0               0   \n",
      "4     2.0  125510.82              1          1               1   \n",
      "\n",
      "   EstimatedSalary  Exited  \n",
      "0        101348.88       1  \n",
      "1        112542.58       0  \n",
      "2        113931.57       1  \n",
      "3         93826.63       0  \n",
      "4         79084.10       0  \n"
     ]
    }
   ],
   "source": [
    "print(data.head())"
   ]
  },
  {
   "cell_type": "markdown",
   "metadata": {},
   "source": [
    "## Pre-procesamiento de datos "
   ]
  },
  {
   "cell_type": "code",
   "execution_count": 5,
   "metadata": {},
   "outputs": [
    {
     "name": "stdout",
     "output_type": "stream",
     "text": [
      "Valores ausentes en la columna \"Tenure\"  909\n"
     ]
    }
   ],
   "source": [
    "print('Valores ausentes en la columna \"Tenure\" ', data['Tenure'].isna().sum())"
   ]
  },
  {
   "cell_type": "code",
   "execution_count": 6,
   "metadata": {},
   "outputs": [
    {
     "name": "stdout",
     "output_type": "stream",
     "text": [
      "68      5.0\n",
      "9428    9.0\n",
      "7304    8.0\n",
      "9111    5.0\n",
      "5514    NaN\n",
      "Name: Tenure, dtype: float64\n"
     ]
    }
   ],
   "source": [
    "print(data['Tenure'].sample(5,random_state=1245))"
   ]
  },
  {
   "cell_type": "markdown",
   "metadata": {},
   "source": [
    "Tenure: período durante el cual ha madurado el depósito a plazo fijo de un cliente (años)"
   ]
  },
  {
   "cell_type": "code",
   "execution_count": 7,
   "metadata": {
    "scrolled": true
   },
   "outputs": [
    {
     "name": "stdout",
     "output_type": "stream",
     "text": [
      "    RowNumber  CustomerId    Surname  CreditScore Geography  Gender  Age  \\\n",
      "30         31    15589475    Azikiwe          591     Spain  Female   39   \n",
      "48         49    15766205        Yin          550   Germany    Male   38   \n",
      "51         52    15768193  Trevisani          585   Germany    Male   36   \n",
      "53         54    15702298   Parkhill          655   Germany    Male   41   \n",
      "60         61    15651280     Hunter          742   Germany    Male   35   \n",
      "\n",
      "    Tenure    Balance  NumOfProducts  HasCrCard  IsActiveMember  \\\n",
      "30     NaN       0.00              3          1               0   \n",
      "48     NaN  103391.38              1          0               1   \n",
      "51     NaN  146050.97              2          0               0   \n",
      "53     NaN  125561.97              1          0               0   \n",
      "60     NaN  136857.00              1          0               0   \n",
      "\n",
      "    EstimatedSalary  Exited  \n",
      "30        140469.38       1  \n",
      "48         90878.13       0  \n",
      "51         86424.57       0  \n",
      "53        164040.94       1  \n",
      "60         84509.57       0  \n"
     ]
    }
   ],
   "source": [
    "print(data[data['Tenure'].isna()].head())"
   ]
  },
  {
   "cell_type": "code",
   "execution_count": 8,
   "metadata": {},
   "outputs": [
    {
     "name": "stdout",
     "output_type": "stream",
     "text": [
      "Porcentaje de valores ausente del total de datos:  9.99890001099989\n",
      "Media de Tenure 4.997690023099769\n",
      "Mediana de Tenure 5.0\n"
     ]
    }
   ],
   "source": [
    "print('Porcentaje de valores ausente del total de datos: ', (data['Tenure'].isna().sum()/data['Tenure'].count())*100)\n",
    "print('Media de Tenure', data['Tenure'].mean())\n",
    "print('Mediana de Tenure', data['Tenure'].median())"
   ]
  },
  {
   "cell_type": "markdown",
   "metadata": {},
   "source": [
    "Son casi el 10% de nuestros datos, un porcentaje bastante significativo por lo que si eliminamos estos datos puede llevar a perder informacion valiosa para nuestro modelo ademas de que es una columna relevante. Por lo que adoptaremos el siguiente enfoque: "
   ]
  },
  {
   "cell_type": "markdown",
   "metadata": {},
   "source": [
    "Como la media y la mediana son casi iguales,existe una simetría en la distribución,esto sugiere que los datos de Tenure están distribuidos de manera bastante simétrica.Hay un equilibrio entre valores altos y bajos respecto al centro, por lo que hay ausencia de sesgos fuertes. Dado que el riesgo de introducir sesgos es menor llenaremos estos valores faltantes con la mediana"
   ]
  },
  {
   "cell_type": "code",
   "execution_count": 9,
   "metadata": {},
   "outputs": [],
   "source": [
    "# llenamos con la mediana \n",
    "data['Tenure'].fillna(data['Tenure'].median(),inplace = True)"
   ]
  },
  {
   "cell_type": "markdown",
   "metadata": {},
   "source": []
  },
  {
   "cell_type": "code",
   "execution_count": 10,
   "metadata": {},
   "outputs": [],
   "source": [
    "# definimos una funcion para la codificacion de etiquetas \n",
    "def codificacion_de_etiquetas(data):  \n",
    "    # Seleccionamos solo las columnas categoricas\n",
    "    columns_categorical = data.select_dtypes(include=['object']).columns\n",
    "    encoder = OrdinalEncoder()\n",
    "    encoder.fit(data[columns_categorical])\n",
    "    data[columns_categorical] = encoder.transform(data[columns_categorical])\n",
    "    return data \n",
    "data_preprocessed = codificacion_de_etiquetas(data)"
   ]
  },
  {
   "cell_type": "code",
   "execution_count": 11,
   "metadata": {},
   "outputs": [
    {
     "name": "stdout",
     "output_type": "stream",
     "text": [
      "   RowNumber  CustomerId  Surname  CreditScore  Geography  Gender  Age  \\\n",
      "0          1    15634602   1115.0          619        0.0     0.0   42   \n",
      "1          2    15647311   1177.0          608        2.0     0.0   41   \n",
      "2          3    15619304   2040.0          502        0.0     0.0   42   \n",
      "3          4    15701354    289.0          699        0.0     0.0   39   \n",
      "4          5    15737888   1822.0          850        2.0     0.0   43   \n",
      "\n",
      "   Tenure    Balance  NumOfProducts  HasCrCard  IsActiveMember  \\\n",
      "0     2.0       0.00              1          1               1   \n",
      "1     1.0   83807.86              1          0               1   \n",
      "2     8.0  159660.80              3          1               0   \n",
      "3     1.0       0.00              2          0               0   \n",
      "4     2.0  125510.82              1          1               1   \n",
      "\n",
      "   EstimatedSalary  Exited  \n",
      "0        101348.88       1  \n",
      "1        112542.58       0  \n",
      "2        113931.57       1  \n",
      "3         93826.63       0  \n",
      "4         79084.10       0  \n"
     ]
    }
   ],
   "source": [
    "print(data_preprocessed.head())"
   ]
  },
  {
   "cell_type": "markdown",
   "metadata": {},
   "source": [
    "## Entrenamiento del modelo "
   ]
  },
  {
   "cell_type": "markdown",
   "metadata": {},
   "source": [
    "Para esta seccion entrenaremos dos modelos sin tener en cuenta el desequilibrio de clases. "
   ]
  },
  {
   "cell_type": "code",
   "execution_count": 12,
   "metadata": {},
   "outputs": [],
   "source": [
    "# Separamos en las caracteristica del objetivo \n",
    "features = data_preprocessed.drop(['Exited','RowNumber', 'CustomerId'],axis = 1)\n",
    "target = data_preprocessed['Exited']"
   ]
  },
  {
   "cell_type": "code",
   "execution_count": 13,
   "metadata": {},
   "outputs": [],
   "source": [
    "# Partimos nuestros datos en cojuntos de entrenamiento y validacion \n",
    "features_train, features_valid, target_train, target_valid = train_test_split(features,target,test_size = 0.2,random_state = 12345)"
   ]
  },
  {
   "cell_type": "markdown",
   "metadata": {},
   "source": [
    "### Utilizando Regresion logistica"
   ]
  },
  {
   "cell_type": "code",
   "execution_count": 14,
   "metadata": {},
   "outputs": [],
   "source": [
    "# definimos el modelo \n",
    "model = LogisticRegression(random_state = 12345,solver = 'liblinear')\n",
    "model.fit(features_train, target_train)\n",
    "predictions = model.predict(features_valid)"
   ]
  },
  {
   "cell_type": "code",
   "execution_count": 15,
   "metadata": {},
   "outputs": [
    {
     "name": "stdout",
     "output_type": "stream",
     "text": [
      "Exactitud:  0.7815\n",
      "F1 score:  0.09523809523809523\n"
     ]
    }
   ],
   "source": [
    "# Calculamos algunas metricas \n",
    "print('Exactitud: ',accuracy_score(target_valid,predictions))\n",
    "print('F1 score: ', f1_score(target_valid,predictions))"
   ]
  },
  {
   "cell_type": "markdown",
   "metadata": {},
   "source": [
    "### Utilizando un bosque aleatorio de clasificacion "
   ]
  },
  {
   "cell_type": "code",
   "execution_count": 16,
   "metadata": {},
   "outputs": [],
   "source": [
    "# Definimos el modelo y realizamos la prediccion \n",
    "model = RandomForestClassifier(n_estimators =100,max_depth = 11,random_state = 12345)\n",
    "model.fit(features_train,target_train)\n",
    "predictions = model.predict(features_valid)"
   ]
  },
  {
   "cell_type": "code",
   "execution_count": 17,
   "metadata": {},
   "outputs": [
    {
     "name": "stdout",
     "output_type": "stream",
     "text": [
      "Exactitud:  0.8525\n",
      "F1 score:  0.5440494590417311\n"
     ]
    }
   ],
   "source": [
    "# Calculamos algunas metricas \n",
    "print('Exactitud: ',accuracy_score(target_valid,predictions))\n",
    "print('F1 score: ', f1_score(target_valid,predictions))\n"
   ]
  },
  {
   "cell_type": "code",
   "execution_count": 18,
   "metadata": {},
   "outputs": [
    {
     "name": "stdout",
     "output_type": "stream",
     "text": [
      "Exactitud:  0.7865\n",
      "F1 score:  0.0\n"
     ]
    }
   ],
   "source": [
    "# Realizaremos una prueba de cordura \n",
    "model = DummyClassifier(strategy = 'constant', constant = 0)  #Predecimos una clase contante (en este caso la mas frecuente)\n",
    "model.fit(features_train,target_train)\n",
    "predict = model.predict(features_valid)\n",
    "# Calculamos algunas metricas \n",
    "print('Exactitud: ',accuracy_score(target_valid,predict))\n",
    "print('F1 score: ', f1_score(target_valid,predict))"
   ]
  },
  {
   "cell_type": "markdown",
   "metadata": {},
   "source": [
    "Observaciones: \n",
    "- En la regresion logistica notamos una exactitud del 78,65% y un f1_score de 0. Esto se responde facilmente sabemos que el umbral por defecto en la regresion logistica es de 0,5 como la probabilidad de cada observacion para la clase positiva (1) es pequeña jamas pasa este umbral y por tanto jamás sera clasificado como positiva. Esto evidencia un desbalance de clase. \n",
    "\n",
    "- La prueba de cordura arroja un valor de exactitud bastante elevado 78,65% preciendo solo una clase , por otro lado nuestro modelo de bosque aleatorio de clasificacion nos ofrece una exactitud del 84% y un f1_score del 51,19% que aún esta por debajo del objetivo de este proyecto. \n",
    "\n",
    "- Podemos mencionar que tanto para la regresion logistica como para la prueba de cordura que se hizo tienen la misma precision dado que ambos modelos estan prediciendo una sola clase (0), por este mismo motivo es que tienen tambien el mismo valor de f1_score (promedio armonico de recall y precision) es 0. "
   ]
  },
  {
   "cell_type": "markdown",
   "metadata": {},
   "source": [
    "<div class=\"alert alert-block alert-success\"> \n",
    "<b>Comentario del Revisor #1</b> <a class=\"tocSkip\"></a>\n",
    "\n",
    "Genial! Dejaste comentarios claros sobre las decisiones que tomaste. Documentar cada paso es esencial, no solo para ti, sino también para que otros entiendan las razones detrás de las transformaciones de los datos.\n",
    "\n",
    "</div>"
   ]
  },
  {
   "cell_type": "markdown",
   "metadata": {},
   "source": [
    "Es claro la existencia de un desbalance de clases, veamos: "
   ]
  },
  {
   "cell_type": "code",
   "execution_count": 19,
   "metadata": {},
   "outputs": [],
   "source": [
    "frecuency = target_train.value_counts(normalize = True) "
   ]
  },
  {
   "cell_type": "code",
   "execution_count": 20,
   "metadata": {},
   "outputs": [
    {
     "data": {
      "text/plain": [
       "<AxesSubplot:>"
      ]
     },
     "execution_count": 20,
     "metadata": {},
     "output_type": "execute_result"
    },
    {
     "data": {
      "image/png": "[encoded data removed]",
      "text/plain": [
       "<Figure size 640x480 with 1 Axes>"
      ]
     },
     "metadata": {},
     "output_type": "display_data"
    }
   ],
   "source": [
    "frecuency.plot(kind ='bar')"
   ]
  },
  {
   "cell_type": "markdown",
   "metadata": {},
   "source": [
    "Como se observa hay un fuerte desequilibrio de clases, siendo la clase mas frecuente (0) con un 80% y un 20% para la clase rara. En las siguientes secciones ofreceremos varias soluciones. "
   ]
  },
  {
   "cell_type": "markdown",
   "metadata": {},
   "source": [
    "## Ajuste de peso de clase "
   ]
  },
  {
   "cell_type": "markdown",
   "metadata": {},
   "source": [
    "### Usando regresion logistica "
   ]
  },
  {
   "cell_type": "markdown",
   "metadata": {},
   "source": [
    "####  Utilizando solo regresion logistica y ajustando el umbral "
   ]
  },
  {
   "cell_type": "markdown",
   "metadata": {},
   "source": [
    "Hasta este punto, tenemos claro que la clase mayoritaria está haciendo que nuestra métrica F1-score 0 ya que solo predecimos una sola clase.Sabemos que, para cada observación, la regresión logística calcula la probabilidad de cada clase y considerando solo la probabilidad de la clase positiva, determina a qué clase pertenecerá la observación según el umbral establecido. Por lo tanto, cambiaremos este umbral, que por defecto es 0.5."
   ]
  },
  {
   "cell_type": "code",
   "execution_count": 21,
   "metadata": {},
   "outputs": [
    {
     "data": {
      "text/plain": [
       "LogisticRegression(random_state=12345, solver='liblinear')"
      ]
     },
     "execution_count": 21,
     "metadata": {},
     "output_type": "execute_result"
    }
   ],
   "source": [
    "# Entrenamos el modelo de regresion logistica\n",
    "model = LogisticRegression(random_state = 12345, solver = 'liblinear')\n",
    "model.fit(features_train,target_train)"
   ]
  },
  {
   "cell_type": "code",
   "execution_count": 22,
   "metadata": {},
   "outputs": [
    {
     "data": {
      "image/png": "[encoded data removed]",
      "text/plain": [
       "<Figure size 640x480 with 1 Axes>"
      ]
     },
     "metadata": {},
     "output_type": "display_data"
    }
   ],
   "source": [
    "# Veamos que tan bueno es el modelo \n",
    "probabilities_valid = model.predict_proba(features_valid)\n",
    "probabilities_one_valid = probabilities_valid[:, 1]\n",
    "fpr, tpr, thresholds = roc_curve(target_valid, probabilities_one_valid) \n",
    "plt.figure()\n",
    "# trazamos la grafica\n",
    "plt.plot(fpr, tpr)\n",
    "# Curva ROC para modelo aleatorio (parece una línea recta)\n",
    "plt.plot([0, 1], [0, 1], linestyle='--')\n",
    "\n",
    "plt.xlim([0.0, 1.0])\n",
    "plt.ylim([0.0, 1.0])\n",
    "plt.xlabel('Tasa de falsos positivos')\n",
    "plt.ylabel('Tasa de verdaderos positivos')\n",
    "plt.title('Curva ROC')\n",
    "plt.show()"
   ]
  },
  {
   "cell_type": "code",
   "execution_count": 23,
   "metadata": {},
   "outputs": [
    {
     "name": "stdout",
     "output_type": "stream",
     "text": [
      "El valor de AUC-ROC del modelo es:  0.6737003681862103\n"
     ]
    }
   ],
   "source": [
    "print('El valor de AUC-ROC del modelo es: ', roc_auc_score(target_valid,probabilities_one_valid))"
   ]
  },
  {
   "cell_type": "code",
   "execution_count": 24,
   "metadata": {},
   "outputs": [
    {
     "name": "stdout",
     "output_type": "stream",
     "text": [
      "El mejor f1_score del modelo es 0.4161073825503356 modificando el umbral a 0.244\n"
     ]
    }
   ],
   "source": [
    "best_f1_score = 0 \n",
    "best_umbral = 0 \n",
    "for umbral in np.arange(0,1,0.002): \n",
    "    # si esta probabilidad (determinada por el modelo) es mayor a nuestro umbral pertenece a la clase 1 \n",
    "    predictions = probabilities_one_valid > umbral \n",
    "    score_f1 = f1_score(target_valid,predictions) \n",
    "    if score_f1 > best_f1_score: \n",
    "        best_f1_score = score_f1\n",
    "        best_umbral = umbral \n",
    "        \n",
    "print(f'El mejor f1_score del modelo es {best_f1_score} modificando el umbral a {best_umbral}')"
   ]
  },
  {
   "cell_type": "markdown",
   "metadata": {},
   "source": [
    "Vemos que cambiando el umbral a 0,154 podemos mejorar la metrica f1_score (mejor precision y recall) pero aún así sigue siendo insuficiente para el objetivo de este proyecto que es superar el valor de 0,59 para el f1_score. Intentaremos mejorarlo en las siguientes secciones. "
   ]
  },
  {
   "cell_type": "markdown",
   "metadata": {},
   "source": [
    "#### Class_weight = 'balanced' "
   ]
  },
  {
   "cell_type": "markdown",
   "metadata": {},
   "source": [
    "Entrenaremos un modelo de regresion logistica, utilizando uno de sus parametros 'class_weight', definiendola como balanceada. "
   ]
  },
  {
   "cell_type": "code",
   "execution_count": 25,
   "metadata": {},
   "outputs": [],
   "source": [
    "# Entrenamos el modelo de regresion logistica\n",
    "model = LogisticRegression(random_state = 12345, solver = 'liblinear', class_weight='balanced')\n",
    "model.fit(features_train,target_train)\n",
    "predictions = model.predict(features_valid)"
   ]
  },
  {
   "cell_type": "code",
   "execution_count": 26,
   "metadata": {},
   "outputs": [
    {
     "name": "stdout",
     "output_type": "stream",
     "text": [
      "Exactitud:  0.6765\n",
      "F1 score:  0.47948511665325827\n"
     ]
    }
   ],
   "source": [
    "# Calculamos algunas metricas \n",
    "print('Exactitud: ',accuracy_score(target_valid,predictions))\n",
    "print('F1 score: ', f1_score(target_valid,predictions))"
   ]
  },
  {
   "cell_type": "markdown",
   "metadata": {},
   "source": [
    "Esto es un avance, el F1-score ha mejora para el caso de la regresion logistica pero aun sigue siendo insuficiente para el objetivo de este proyecto. Veremos si ajustando el umbral podemos mejorar esta metrica. "
   ]
  },
  {
   "cell_type": "code",
   "execution_count": 27,
   "metadata": {},
   "outputs": [
    {
     "data": {
      "image/png": "[encoded data removed]",
      "text/plain": [
       "<Figure size 640x480 with 1 Axes>"
      ]
     },
     "metadata": {},
     "output_type": "display_data"
    }
   ],
   "source": [
    "# Veamos que tan bueno es el modelo \n",
    "probabilities_valid = model.predict_proba(features_valid)\n",
    "probabilities_one_valid = probabilities_valid[:, 1]\n",
    "fpr, tpr, thresholds = roc_curve(target_valid, probabilities_one_valid) \n",
    "plt.figure()\n",
    "# trazamos la grafica\n",
    "plt.plot(fpr, tpr)\n",
    "# Curva ROC para modelo aleatorio (parece una línea recta)\n",
    "plt.plot([0, 1], [0, 1], linestyle='--')\n",
    "\n",
    "plt.xlim([0.0, 1.0])\n",
    "plt.ylim([0.0, 1.0])\n",
    "plt.xlabel('Tasa de falsos positivos')\n",
    "plt.ylabel('Tasa de verdaderos positivos')\n",
    "plt.title('Curva ROC')\n",
    "plt.show()"
   ]
  },
  {
   "cell_type": "code",
   "execution_count": 28,
   "metadata": {},
   "outputs": [
    {
     "name": "stdout",
     "output_type": "stream",
     "text": [
      "El valor de AUC-ROC del modelo es:  0.7448706286262173\n"
     ]
    }
   ],
   "source": [
    "print('El valor de AUC-ROC del modelo es: ', roc_auc_score(target_valid,probabilities_one_valid))"
   ]
  },
  {
   "cell_type": "markdown",
   "metadata": {},
   "source": [
    "Este modelo presenta una buena curvatura hacia la parte superior izquierda lo que indicar ser un buen modelo.Iremos cambiando el umbral: "
   ]
  },
  {
   "cell_type": "code",
   "execution_count": 29,
   "metadata": {},
   "outputs": [
    {
     "name": "stdout",
     "output_type": "stream",
     "text": [
      "El mejor f1_score del modelo es 0.48238057948316365 modificando el umbral a 0.488\n"
     ]
    }
   ],
   "source": [
    "best_f1_score = 0 \n",
    "best_umbral = 0 \n",
    "for umbral in np.arange(0,1,0.002): \n",
    "    # si esta probabilidad (determinada por el modelo) es mayor a nuestro umbral pertenece a la clase 1 \n",
    "    predictions = probabilities_one_valid > umbral \n",
    "    score_f1 = f1_score(target_valid,predictions) \n",
    "    if score_f1 > best_f1_score: \n",
    "        best_f1_score = score_f1\n",
    "        best_umbral = umbral \n",
    "        \n",
    "print(f'El mejor f1_score del modelo es {best_f1_score} modificando el umbral a {best_umbral}')"
   ]
  },
  {
   "cell_type": "markdown",
   "metadata": {},
   "source": [
    "Hemos tenido una mejora en f1_score y esto se debe a la especificacion del parametro 'class_weight' que otorga más peso para la clase 'rara', tratamos de ajustar el umbral para mejorar esta metrica y si bien es cierto este aumento sigue siendo insuficiente el objetivo del proyecto. "
   ]
  },
  {
   "cell_type": "markdown",
   "metadata": {},
   "source": [
    "#### Sobremuestreo "
   ]
  },
  {
   "cell_type": "markdown",
   "metadata": {},
   "source": [
    "Para esta seccion duplicaremos las observaciones de la clase menos frecuente para solucionar el desequilibrio de clases y asi tengamos un mejor modelo para el caso de regresion logistica. "
   ]
  },
  {
   "cell_type": "code",
   "execution_count": 30,
   "metadata": {},
   "outputs": [
    {
     "name": "stdout",
     "output_type": "stream",
     "text": [
      "(8000, 11)\n",
      "(8000,)\n"
     ]
    }
   ],
   "source": [
    "print(features_train.shape)\n",
    "print(target_train.shape)"
   ]
  },
  {
   "cell_type": "code",
   "execution_count": 31,
   "metadata": {},
   "outputs": [],
   "source": [
    "# funcion de sobremuestreo, repite la clase rara. \n",
    "def sobre_muestreo(features,target,repeat):\n",
    "    # Dividimos la muestra de entrenamiento por clase \n",
    "    class_zero_features = features[target == 0]\n",
    "    class_one_features = features[target == 1] \n",
    "    class_zero_target = target[target == 0]\n",
    "    class_one_target = target[target == 1]\n",
    "\n",
    "    features_upsampled = pd.concat([class_zero_features] + [class_one_features] * repeat)  \n",
    "    target_upsampled = pd.concat([class_zero_target] + [class_one_target] * repeat)\n",
    "    features_upsampled, target_upsampled = shuffle(features_upsampled, target_upsampled, random_state=12345)\n",
    "    return features_upsampled, target_upsampled"
   ]
  },
  {
   "cell_type": "markdown",
   "metadata": {},
   "source": [
    "<div class=\"alert alert-block alert-warning\"> \n",
    "<b>Comentario del Revisor #1</b> <a class=\"tocSkip\"></a>\n",
    "\n",
    "Quizás el sobremuestreo debería ser mas agresivo. Eso lo sabrás si analizas cuán pronuenciada es la diferencia entre clases.\n",
    "\n",
    "</div>"
   ]
  },
  {
   "cell_type": "code",
   "execution_count": 32,
   "metadata": {},
   "outputs": [],
   "source": [
    "# probaremos duplicando la clase menos frecuente sobre el conjunto de entrenamiento \n",
    "features_upsampled, target_upsampled = sobre_muestreo(features_train, target_train, 2)"
   ]
  },
  {
   "cell_type": "code",
   "execution_count": 33,
   "metadata": {},
   "outputs": [
    {
     "name": "stdout",
     "output_type": "stream",
     "text": [
      "(9610, 11)\n",
      "(9610,)\n"
     ]
    }
   ],
   "source": [
    "# Aumento de del tamaño de nuestros datos \n",
    "print(features_upsampled.shape)\n",
    "print(target_upsampled.shape)"
   ]
  },
  {
   "cell_type": "code",
   "execution_count": 34,
   "metadata": {},
   "outputs": [],
   "source": [
    "# entrenamiento del modelo \n",
    "model = LogisticRegression(random_state = 12345, solver = 'liblinear')\n",
    "model.fit(features_upsampled,target_upsampled)\n",
    "# predecimos con el conjunto de validacion \n",
    "predictions = model.predict(features_valid)"
   ]
  },
  {
   "cell_type": "code",
   "execution_count": 35,
   "metadata": {},
   "outputs": [
    {
     "name": "stdout",
     "output_type": "stream",
     "text": [
      "Exactitud:  0.766\n",
      "F1 score:  0.3371104815864022\n"
     ]
    }
   ],
   "source": [
    "# Calculamos algunas metricas \n",
    "print('Exactitud: ',accuracy_score(target_valid,predictions))\n",
    "print('F1 score: ', f1_score(target_valid,predictions))"
   ]
  },
  {
   "cell_type": "code",
   "execution_count": 36,
   "metadata": {},
   "outputs": [
    {
     "data": {
      "image/png": "[encoded data removed]",
      "text/plain": [
       "<Figure size 640x480 with 1 Axes>"
      ]
     },
     "metadata": {},
     "output_type": "display_data"
    }
   ],
   "source": [
    "# Veamos que tan bueno es el modelo \n",
    "probabilities_valid = model.predict_proba(features_valid)\n",
    "probabilities_one_valid = probabilities_valid[:, 1]\n",
    "fpr, tpr, thresholds = roc_curve(target_valid, probabilities_one_valid) \n",
    "plt.figure()\n",
    "# trazamos la grafica\n",
    "plt.plot(fpr, tpr)\n",
    "# Curva ROC para modelo aleatorio (parece una línea recta)\n",
    "plt.plot([0, 1], [0, 1], linestyle='--')\n",
    "\n",
    "plt.xlim([0.0, 1.0])\n",
    "plt.ylim([0.0, 1.0])\n",
    "plt.xlabel('Tasa de falsos positivos')\n",
    "plt.ylabel('Tasa de verdaderos positivos')\n",
    "plt.title('Curva ROC')\n",
    "plt.show()"
   ]
  },
  {
   "cell_type": "code",
   "execution_count": 37,
   "metadata": {},
   "outputs": [
    {
     "name": "stdout",
     "output_type": "stream",
     "text": [
      "El valor de AUC-ROC del modelo es:  0.6976391715586946\n"
     ]
    }
   ],
   "source": [
    "print('El valor de AUC-ROC del modelo es: ', roc_auc_score(target_valid,probabilities_one_valid))"
   ]
  },
  {
   "cell_type": "markdown",
   "metadata": {},
   "source": [
    "Podemos ver que con el sobremuestreo, el F1-score aumenta respecto a nuestro modelo inicial de regresion logistica que teniamos y que su F1-score era cero, pero este sigue siendo insuficiente para el objetivo de nuetro proyecto que es un F1 score mayor al 59%. tambien es importante notar que la exactitud del modelo es baja. "
   ]
  },
  {
   "cell_type": "markdown",
   "metadata": {},
   "source": [
    "#### Submuestreo"
   ]
  },
  {
   "cell_type": "markdown",
   "metadata": {},
   "source": [
    "Ahora lo que haremos sera eliminar una parte de nuestra clase mas frecuente para poder tener un mejor modelo.Es importante mencionar que anteriormente se menciono que el 80% del cojunto de entrenamiento es de la clase 0 mientras que el 20% para la clase 1. Es decir la relacion es de 1 a 4 si deseamos equiparar ambas clases tenemos que escoger solo el 25% de la clase mas frecuente.  "
   ]
  },
  {
   "cell_type": "code",
   "execution_count": 38,
   "metadata": {},
   "outputs": [],
   "source": [
    "def submuestreo(features, target, fraction):\n",
    "    # Dividimos en clases la muestra de entrenamiento \n",
    "    features_zeros = features[target == 0]\n",
    "    features_ones = features[target == 1]\n",
    "    target_zeros = target[target == 0]\n",
    "    target_ones = target[target == 1]\n",
    "    \n",
    "    # Concatenamos \n",
    "    features_downsampled = pd.concat([features_zeros.sample(frac=fraction, random_state=12345)] + [features_ones])\n",
    "    target_downsampled = pd.concat([target_zeros.sample(frac=fraction, random_state=12345)] + [target_ones])\n",
    "    \n",
    "    #Combinamos \n",
    "    features_downsampled, target_downsampled = shuffle(features_downsampled, target_downsampled, random_state=12345)\n",
    "\n",
    "    return features_downsampled, target_downsampled"
   ]
  },
  {
   "cell_type": "code",
   "execution_count": 39,
   "metadata": {},
   "outputs": [],
   "source": [
    "# vamos equiparar las dos clases ya que la clase menos frecuente representa el 20% sobre el conjunto de entrenamiento\n",
    "features_dowsampled ,target_dowsampled = submuestreo(features_train,target_train, 0.25)"
   ]
  },
  {
   "cell_type": "code",
   "execution_count": 40,
   "metadata": {},
   "outputs": [],
   "source": [
    "# entrenamiento del modelo \n",
    "model = LogisticRegression(random_state = 12345, solver = 'liblinear')\n",
    "model.fit(features_dowsampled,target_dowsampled)\n",
    "predictions = model.predict(features_valid)"
   ]
  },
  {
   "cell_type": "code",
   "execution_count": 41,
   "metadata": {},
   "outputs": [
    {
     "name": "stdout",
     "output_type": "stream",
     "text": [
      "Exactitud:  0.6465\n",
      "F1 score:  0.449805447470817\n"
     ]
    }
   ],
   "source": [
    "# Calculamos algunas metricas \n",
    "print('Exactitud: ',accuracy_score(target_valid,predictions))\n",
    "print('F1 score: ', f1_score(target_valid,predictions))"
   ]
  },
  {
   "cell_type": "code",
   "execution_count": 42,
   "metadata": {},
   "outputs": [
    {
     "data": {
      "image/png": "[encoded data removed]",
      "text/plain": [
       "<Figure size 640x480 with 1 Axes>"
      ]
     },
     "metadata": {},
     "output_type": "display_data"
    }
   ],
   "source": [
    "# Veamos que tan bueno es el modelo \n",
    "probabilities_valid = model.predict_proba(features_valid)\n",
    "probabilities_one_valid = probabilities_valid[:, 1]\n",
    "fpr, tpr, thresholds = roc_curve(target_valid, probabilities_one_valid) \n",
    "plt.figure()\n",
    "# trazamos la grafica\n",
    "plt.plot(fpr, tpr)\n",
    "# Curva ROC para modelo aleatorio (parece una línea recta)\n",
    "plt.plot([0, 1], [0, 1], linestyle='--')\n",
    "\n",
    "plt.xlim([0.0, 1.0])\n",
    "plt.ylim([0.0, 1.0])\n",
    "plt.xlabel('Tasa de falsos positivos')\n",
    "plt.ylabel('Tasa de verdaderos positivos')\n",
    "plt.title('Curva ROC')\n",
    "plt.show()"
   ]
  },
  {
   "cell_type": "code",
   "execution_count": 43,
   "metadata": {},
   "outputs": [
    {
     "name": "stdout",
     "output_type": "stream",
     "text": [
      "El valor de AUC-ROC del modelo es:  0.715875778468923\n"
     ]
    }
   ],
   "source": [
    "print('El valor de AUC-ROC del modelo es: ', roc_auc_score(target_valid,probabilities_one_valid))"
   ]
  },
  {
   "cell_type": "code",
   "execution_count": 44,
   "metadata": {},
   "outputs": [
    {
     "name": "stdout",
     "output_type": "stream",
     "text": [
      "El mejor f1_score del modelo es 0.4518695306284805 modificando el umbral a 0.506\n"
     ]
    }
   ],
   "source": [
    "# veremos el mejor umbral \n",
    "best_f1_score = 0 \n",
    "best_umbral = 0 \n",
    "for umbral in np.arange(0,1,0.002): \n",
    "    # si esta probabilidad (determinada por el modelo) es mayor a nuestro umbral pertenece a la clase 1 \n",
    "    predictions = probabilities_one_valid > umbral \n",
    "    score_f1 = f1_score(target_valid,predictions) \n",
    "    if score_f1 > best_f1_score: \n",
    "        best_f1_score = score_f1\n",
    "        best_umbral = umbral \n",
    "        \n",
    "print(f'El mejor f1_score del modelo es {best_f1_score} modificando el umbral a {best_umbral}')"
   ]
  },
  {
   "cell_type": "markdown",
   "metadata": {},
   "source": [
    "A manera de conclusión de esta sección, revisaremos los cuatro enfoques que implementamos para tratar el desbalance de clase en un modelo de regresión logística:\n",
    "\n",
    " - Modificación del Umbral: En el primer enfoque, probamos modificando el umbral de decisión. Al hacerlo, logramos un F1-score de 0.38. Este fue el primer modelo desarrollado en el proyecto sin considerar el desbalance de clases; al tener un umbral por defecto de 0.5, el modelo predijo únicamente la clase 0, resultando en un F1-score de 0. Al reducir el umbral, mejoramos ligeramente el F1-score, pero no fue suficiente para alcanzar el nivel de desempeño deseado, quedando en un máximo de 0.59.\n",
    "\n",
    " - Uso del Parámetro class_weight: En el segundo enfoque, empleamos el parámetro class_weight='balanced' de la regresión logística, que ajusta automáticamente el peso de las clases para otorgar más importancia a la clase menos frecuente. Esto resultó en un modelo con un AUC-ROC de 0.75, lo que indica una capacidad razonable para distinguir entre clases. Sin embargo, al optimizar el umbral, el F1-score máximo alcanzado fue de 0.51, aún insuficiente para el objetivo del proyecto. Este resultado, aunque mejor que el anterior, refleja las limitaciones de la regresión logística en datos desbalanceados, ya que esta técnica es sensible a los desequilibrios entre clases.\n",
    "\n",
    " - Sobremuestreo: Para el tercer enfoque, aplicamos sobremuestreo de la clase minoritaria. Sin embargo, los resultados del modelo no fueron satisfactorios. El sobremuestreo a menudo puede llevar a sobreajuste, especialmente en modelos simples como la regresión logística, y esto podría explicar la baja precisión obtenida en este caso.\n",
    "\n",
    " - Submuestreo: Por último, probamos con submuestreo de la clase mayoritaria. Este método mostró una mejora notable en el desempeño, con resultados similares al enfoque de class_weight. A pesar de esta mejoría, el F1-score alcanzado sigue siendo insuficiente para cumplir con los objetivos del proyecto. El submuestreo reduce el tamaño de la clase mayoritaria y, en consecuencia, puede mejorar la precisión en problemas de clasificación desbalanceada, aunque limita la cantidad de datos que el modelo tiene para aprender.\n",
    " \n",
    "Dado que el AUC-ROC máximo obtenido fue de 0.75, consideramos que estos métodos de ajuste para la regresión logística presentan limitaciones cuando se trata de desbalance de clase severo. Por ello, en la siguiente sección exploraremos un modelo de bosque aleatorio, que, al manejar mejor las relaciones no lineales y adaptarse bien a conjuntos de datos desbalanceados, podría ofrecer un desempeño superior en esta tarea."
   ]
  },
  {
   "cell_type": "markdown",
   "metadata": {},
   "source": [
    "### Usando un Bosque aleatorio de clasificacion "
   ]
  },
  {
   "cell_type": "markdown",
   "metadata": {},
   "source": [
    "Antes de pasar a esta seccion decidí separar todos nuestros datos en 3 partes: 80% para entrenamiento , 10% para validacion y 10% para test. Esto para realizar un test final en nuestro modelo. "
   ]
  },
  {
   "cell_type": "code",
   "execution_count": 45,
   "metadata": {},
   "outputs": [],
   "source": [
    "# Separamos en dos cojuntos (entrenamiento: 80%)\n",
    "features_train, features_temp, target_train, target_temp = train_test_split(features,target, test_size=0.2, random_state=54321)\n",
    "\n",
    "# Separamos en dos cojuntos (10% para validacion - 10% para test)\n",
    "features_valid, features_test, target_valid, target_test = train_test_split (features_temp, target_temp, test_size=0.5 ,random_state=54321)"
   ]
  },
  {
   "cell_type": "markdown",
   "metadata": {},
   "source": [
    "#### Especificando el hiperparametro class_weight"
   ]
  },
  {
   "cell_type": "markdown",
   "metadata": {},
   "source": [
    "Busqueda de los mejores hiperparametros: "
   ]
  },
  {
   "cell_type": "code",
   "execution_count": 46,
   "metadata": {},
   "outputs": [
    {
     "name": "stdout",
     "output_type": "stream",
     "text": [
      "El mejor bosque tiene un 90 estimadores y una profundidad de 10, donde el valor del F1-score del modelo es 0.6346153846153846\n"
     ]
    }
   ],
   "source": [
    "best_f1_score = 0\n",
    "best_depth = 0\n",
    "best_est = 0\n",
    "\n",
    "for est in range(10,101,10):\n",
    "    for depth in range (1,15): \n",
    "        # selecionamos los hiperparametros incluidos el desbalance de clase 'class_weight'\n",
    "        model = RandomForestClassifier(n_estimators=est, max_depth = depth, random_state = 54321,class_weight='balanced')\n",
    "        model.fit(features_train,target_train)\n",
    "        \n",
    "        # Realizamos las predicciones sobre el cojunto de validacion \n",
    "        prediction = model.predict(features_valid)\n",
    "        \n",
    "        # Calculamos el f1-score\n",
    "        f1 = f1_score(target_valid,prediction)\n",
    "        \n",
    "        # Tomamos los mejores hiperparametros \n",
    "        if (f1 > best_f1_score ): \n",
    "            best_f1_score = f1\n",
    "            best_depth = depth \n",
    "            best_est = est \n",
    "print(f\"El mejor bosque tiene un {best_est} estimadores y una profundidad de {best_depth}, donde el valor del F1-score del modelo es {best_f1_score}\")"
   ]
  },
  {
   "cell_type": "code",
   "execution_count": 47,
   "metadata": {},
   "outputs": [
    {
     "data": {
      "image/png": "[encoded data removed]",
      "text/plain": [
       "<Figure size 640x480 with 1 Axes>"
      ]
     },
     "metadata": {},
     "output_type": "display_data"
    }
   ],
   "source": [
    "# Veamos que tan bueno es el modelo \n",
    "probabilities_valid = model.predict_proba(features_valid)\n",
    "probabilities_one_valid = probabilities_valid[:, 1]\n",
    "fpr, tpr, thresholds = roc_curve(target_valid, probabilities_one_valid) \n",
    "plt.figure()\n",
    "# trazamos la grafica\n",
    "plt.plot(fpr, tpr)\n",
    "# Curva ROC para modelo aleatorio (parece una línea recta)\n",
    "plt.plot([0, 1], [0, 1], linestyle='--')\n",
    "\n",
    "plt.xlim([0.0, 1.0])\n",
    "plt.ylim([0.0, 1.0])\n",
    "plt.xlabel('Tasa de falsos positivos')\n",
    "plt.ylabel('Tasa de verdaderos positivos')\n",
    "plt.title('Curva ROC')\n",
    "plt.show()"
   ]
  },
  {
   "cell_type": "code",
   "execution_count": 48,
   "metadata": {},
   "outputs": [
    {
     "name": "stdout",
     "output_type": "stream",
     "text": [
      "El valor de AUC-ROC del modelo es:  0.8602459640572646\n"
     ]
    }
   ],
   "source": [
    "print('El valor de AUC-ROC del modelo es: ', roc_auc_score(target_valid,probabilities_one_valid))"
   ]
  },
  {
   "cell_type": "markdown",
   "metadata": {},
   "source": [
    "Podemos evidenciar una mejora notoria en el modelo utiliza bosque de regresion aleatoria a cambio de un costo computacional más alto, ya que suele demorarse. Comenzamos por buscar los mejores hiperparametros para nuestro modelo inclueyendo el desbalance de clase como hiperparametro. Obtuvimos como resultado un modelo con f1-score de 0.63 para el conjunto de validacion pasando asi el propuesto para este proyecto. En la siguiente seccion realizaremos la prueba final con el cojunto test. "
   ]
  },
  {
   "cell_type": "markdown",
   "metadata": {},
   "source": [
    "Realizamos la prueba final: "
   ]
  },
  {
   "cell_type": "code",
   "execution_count": 49,
   "metadata": {},
   "outputs": [
    {
     "name": "stdout",
     "output_type": "stream",
     "text": [
      "***Metricas***\n",
      "Exactitud:  0.861\n",
      "Recall:  0.654639175257732\n",
      "Precision:  0.6381909547738693\n",
      "F1-Score:  0.6463104325699744\n",
      "AUC-ROC:  0.8818589956767543\n"
     ]
    }
   ],
   "source": [
    "# Entrenamiento del modelo con los mejores hiperparametros \n",
    "model = RandomForestClassifier(n_estimators = 90, max_depth = 10, random_state = 54321,class_weight='balanced')\n",
    "model.fit(features_train,target_train)\n",
    "prediction = model.predict(features_test)\n",
    "\n",
    "# Probabilidades \n",
    "probabilities_valid = model.predict_proba(features_test)\n",
    "probabilities_one_valid = probabilities_valid[:, 1]\n",
    "\n",
    "# Metricas \n",
    "print(\"***Metricas***\")\n",
    "print('Exactitud: ',accuracy_score(target_test,prediction))\n",
    "print('Recall: ',recall_score(target_test,prediction))\n",
    "print('Precision: ',precision_score(target_test,prediction))\n",
    "print('F1-Score: ',f1_score(target_test,prediction))\n",
    "print('AUC-ROC: ',roc_auc_score(target_test,probabilities_one_valid))"
   ]
  },
  {
   "cell_type": "markdown",
   "metadata": {},
   "source": [
    "Como vemos F1-score pasa el limite impuesto para este proyecto, junto con otra metricas que nos pueden ayudar dependiendo de los objetivos que tengamos. "
   ]
  },
  {
   "cell_type": "markdown",
   "metadata": {},
   "source": [
    "#### Aplicando submuestreo "
   ]
  },
  {
   "cell_type": "code",
   "execution_count": 50,
   "metadata": {},
   "outputs": [],
   "source": [
    "# vamos equiparar las dos clases ya que la clase menos frecuente representa el 20% sobre el conjunto de entrenamiento\n",
    "features_dowsampled ,target_dowsampled = submuestreo(features_train,target_train, 0.25)"
   ]
  },
  {
   "cell_type": "code",
   "execution_count": 51,
   "metadata": {},
   "outputs": [
    {
     "name": "stdout",
     "output_type": "stream",
     "text": [
      "El mejor bosque tiene un 90 estimadores y una profundidad de 8, donde el valor del F1-score del modelo es 0.6147540983606556\n"
     ]
    }
   ],
   "source": [
    "best_f1_score = 0\n",
    "best_depth = 0\n",
    "best_est = 0\n",
    "\n",
    "for est in range(10,101,10):\n",
    "    for depth in range (1,15): \n",
    "        # selecionamos los hiperparametros \n",
    "        model = RandomForestClassifier(n_estimators=est, max_depth = depth, random_state = 54321)\n",
    "        model.fit(features_dowsampled,target_dowsampled)\n",
    "        \n",
    "        # Realizamos las predicciones sobre el cojunto de validacion \n",
    "        prediction = model.predict(features_valid)\n",
    "        \n",
    "        # Calculamos el f1-score\n",
    "        f1 = f1_score(target_valid,prediction)\n",
    "        \n",
    "        # Tomamos los mejores hiperparametros \n",
    "        if (f1 > best_f1_score ): \n",
    "            best_f1_score = f1\n",
    "            best_depth = depth \n",
    "            best_est = est \n",
    "print(f\"El mejor bosque tiene un {best_est} estimadores y una profundidad de {best_depth}, donde el valor del F1-score del modelo es {best_f1_score}\")"
   ]
  },
  {
   "cell_type": "code",
   "execution_count": 52,
   "metadata": {},
   "outputs": [
    {
     "data": {
      "image/png": "[encoded data removed]",
      "text/plain": [
       "<Figure size 640x480 with 1 Axes>"
      ]
     },
     "metadata": {},
     "output_type": "display_data"
    }
   ],
   "source": [
    "# Veamos que tan bueno es el modelo \n",
    "probabilities_valid = model.predict_proba(features_valid)\n",
    "probabilities_one_valid = probabilities_valid[:, 1]\n",
    "fpr, tpr, thresholds = roc_curve(target_valid, probabilities_one_valid) \n",
    "plt.figure()\n",
    "# trazamos la grafica\n",
    "plt.plot(fpr, tpr)\n",
    "# Curva ROC para modelo aleatorio (parece una línea recta)\n",
    "plt.plot([0, 1], [0, 1], linestyle='--')\n",
    "\n",
    "plt.xlim([0.0, 1.0])\n",
    "plt.ylim([0.0, 1.0])\n",
    "plt.xlabel('Tasa de falsos positivos')\n",
    "plt.ylabel('Tasa de verdaderos positivos')\n",
    "plt.title('Curva ROC')\n",
    "plt.show()"
   ]
  },
  {
   "cell_type": "code",
   "execution_count": 53,
   "metadata": {},
   "outputs": [
    {
     "name": "stdout",
     "output_type": "stream",
     "text": [
      "El valor de AUC-ROC del modelo es:  0.8506637729718752\n"
     ]
    }
   ],
   "source": [
    "print('El valor de AUC-ROC del modelo es: ', roc_auc_score(target_valid,probabilities_one_valid))"
   ]
  },
  {
   "cell_type": "markdown",
   "metadata": {},
   "source": [
    "Nos llevamos una grata sorpresa, aplicando submuestreo nuestro modelo mejora y por mucho en comparacion de la regresion logistica equiparando casi al anterior modelo mostrado, con un F1-score de 0.61 superando el limite del proyecto. Continuaremos con la prueba final en donde ultizaremos el conjunto test "
   ]
  },
  {
   "cell_type": "markdown",
   "metadata": {},
   "source": [
    "Realizamos la prueba final: "
   ]
  },
  {
   "cell_type": "code",
   "execution_count": 54,
   "metadata": {},
   "outputs": [
    {
     "name": "stdout",
     "output_type": "stream",
     "text": [
      "***Metricas***\n",
      "Exactitud:  0.793\n",
      "Recall:  0.788659793814433\n",
      "Precision:  0.47962382445141066\n",
      "F1-Score:  0.5964912280701754\n",
      "AUC-ROC:  0.8818398096748612\n"
     ]
    }
   ],
   "source": [
    "# Instanciamos el modelo con los mejores hiperparametros \n",
    "model = RandomForestClassifier(n_estimators = 90, max_depth = 8, random_state = 54321)\n",
    "# Entrenamos el modelo con los datos de entrenamiento despues de aplicar el submuestreo\n",
    "model.fit(features_dowsampled,target_dowsampled)\n",
    "prediction = model.predict(features_test)\n",
    "\n",
    "# Probabilidades \n",
    "probabilities_valid = model.predict_proba(features_test)\n",
    "probabilities_one_valid = probabilities_valid[:, 1]\n",
    "\n",
    "# Metricas \n",
    "print(\"***Metricas***\")\n",
    "print('Exactitud: ',accuracy_score(target_test,prediction))\n",
    "print('Recall: ',recall_score(target_test,prediction))\n",
    "print('Precision: ',precision_score(target_test,prediction))\n",
    "print('F1-Score: ',f1_score(target_test,prediction))\n",
    "print('AUC-ROC: ',roc_auc_score(target_test,probabilities_one_valid))"
   ]
  },
  {
   "cell_type": "markdown",
   "metadata": {},
   "source": [
    "Como observamos, nuestro modelo tiene un F1-score 0.59 en el conjunto de test al aplicar solo submuestreo. Esto evidencia que es sumamente importante tener en cuenta el desbalance de clases para mejorar nuestros modelos de predicción."
   ]
  },
  {
   "cell_type": "markdown",
   "metadata": {},
   "source": [
    "# Conclusiones del proyecto \n",
    "\n",
    "- Desbalance de Clases: A lo largo del proyecto, se evidenció un severo desbalance de clases, lo que impactó negativamente en el rendimiento de los modelos. La regresión logística, al tener un umbral predeterminado de 0.5, no logró clasificar adecuadamente la clase positiva, resultando en un F1-score de 0. Esto demuestra que es crucial considerar el equilibrio de clases desde el inicio para evitar que los modelos se inclinen hacia la clase mayoritaria.\n",
    "\n",
    "- Limitaciones de la Regresión Logística: Aunque se intentaron varios enfoques para abordar el desbalance, la regresión logística mostró limitaciones inherentes al manejar conjuntos de datos desbalanceados. A pesar de experimentar con la modificación del umbral y el ajuste del parámetro class_weight='balanced', el modelo no logró alcanzar el objetivo de F1-score propuesto para el proyecto.\n",
    "\n",
    "Estrategias de Manejo del Desbalance:\n",
    "\n",
    "  - Modificación del Umbral: Al reducir el umbral, se logró un F1-score mejorado de 0.38, aunque aún por debajo de lo esperado. Esto sugiere que ajustes menores en el umbral pueden ser útiles, pero no suficientes para abordar desbalances severos.\n",
    "  - Uso de class_weight: Implementar el parámetro class_weight='balanced' mejoró el AUC-ROC a 0.75, lo que indica una capacidad razonable para distinguir entre las clases, pero el F1-score siguió siendo insuficiente (0.51).\n",
    "  - Sobremuestreo y Submuestreo: La aplicación de sobremuestreo resultó en un sobreajuste, mientras que el submuestreo mostró mejoras notables, lo que sugiere que este último es un enfoque más viable en este contexto. Sin embargo, ambos métodos aún tuvieron dificultades para cumplir con los objetivos de F1-score del proyecto."
   ]
  },
  {
   "cell_type": "markdown",
   "metadata": {},
   "source": [
    "- Mejoras con el Bosque Aleatorio: Al aplicar un modelo de bosque aleatorio, se observó una mejora significativa en el rendimiento. Este modelo logró un F1-score de 0.63 en el conjunto de validación, superando el objetivo.\n",
    "\n",
    "- Resultados en el Conjunto de Test: Aunque se alcanzó un F1-score de 0.59 en el conjunto de test aplicando solo submuestreo, esto reafirma la necesidad de seguir explorando y refinando las técnicas para abordar el desbalance de clases en el futuro.\n",
    "\n",
    "- Importancia del Desbalance de Clases: Este proyecto ha resaltado la importancia de abordar el desbalance de clases en problemas de clasificación. Los modelos simples, como la regresión logística, pueden ser inadecuados en estos contextos, y es esencial considerar métodos más avanzados que puedan adaptarse mejor a las características de los datos."
   ]
  }
 ],
 "metadata": {
  "ExecuteTimeLog": [
   {
    "duration": 330,
    "start_time": "2024-10-24T15:19:33.523Z"
   },
   {
    "duration": 20,
    "start_time": "2024-10-24T15:19:34.911Z"
   },
   {
    "duration": 11,
    "start_time": "2024-10-24T15:19:36.046Z"
   },
   {
    "duration": 15,
    "start_time": "2024-10-24T15:19:47.787Z"
   },
   {
    "duration": 5,
    "start_time": "2024-10-24T15:40:19.925Z"
   },
   {
    "duration": 509,
    "start_time": "2024-10-24T15:40:30.404Z"
   },
   {
    "duration": 3,
    "start_time": "2024-10-24T15:41:53.893Z"
   },
   {
    "duration": 931,
    "start_time": "2024-10-24T15:46:25.961Z"
   },
   {
    "duration": 16,
    "start_time": "2024-10-24T15:46:44.583Z"
   },
   {
    "duration": 10,
    "start_time": "2024-10-24T15:46:45.926Z"
   },
   {
    "duration": 12,
    "start_time": "2024-10-24T15:46:50.347Z"
   },
   {
    "duration": 41,
    "start_time": "2024-10-24T15:47:19.769Z"
   },
   {
    "duration": 16,
    "start_time": "2024-10-24T15:48:00.623Z"
   },
   {
    "duration": 19,
    "start_time": "2024-10-24T15:48:27.240Z"
   },
   {
    "duration": 34,
    "start_time": "2024-10-24T15:49:15.092Z"
   },
   {
    "duration": 7,
    "start_time": "2024-10-24T15:53:28.891Z"
   },
   {
    "duration": 2,
    "start_time": "2024-10-24T16:27:13.131Z"
   },
   {
    "duration": 3,
    "start_time": "2024-10-24T16:31:54.206Z"
   },
   {
    "duration": 131,
    "start_time": "2024-10-24T16:34:12.996Z"
   },
   {
    "duration": 3,
    "start_time": "2024-10-24T16:41:55.628Z"
   },
   {
    "duration": 5,
    "start_time": "2024-10-24T16:42:16.278Z"
   },
   {
    "duration": 5,
    "start_time": "2024-10-24T16:42:29.289Z"
   },
   {
    "duration": 5,
    "start_time": "2024-10-24T16:43:17.291Z"
   },
   {
    "duration": 4,
    "start_time": "2024-10-24T16:43:26.667Z"
   },
   {
    "duration": 18,
    "start_time": "2024-10-24T16:46:37.749Z"
   },
   {
    "duration": 84,
    "start_time": "2024-10-24T16:46:52.036Z"
   },
   {
    "duration": 11,
    "start_time": "2024-10-24T16:47:09.006Z"
   },
   {
    "duration": 8,
    "start_time": "2024-10-24T16:48:33.064Z"
   },
   {
    "duration": 4,
    "start_time": "2024-10-24T17:05:23.776Z"
   },
   {
    "duration": 4,
    "start_time": "2024-10-24T17:05:57.293Z"
   },
   {
    "duration": 5,
    "start_time": "2024-10-24T17:06:13.327Z"
   },
   {
    "duration": 4,
    "start_time": "2024-10-24T17:06:30.408Z"
   },
   {
    "duration": 5,
    "start_time": "2024-10-24T17:14:08.370Z"
   },
   {
    "duration": 2408,
    "start_time": "2024-10-24T17:16:21.483Z"
   },
   {
    "duration": 57,
    "start_time": "2024-10-24T17:23:04.420Z"
   },
   {
    "duration": 4,
    "start_time": "2024-10-24T17:23:30.269Z"
   },
   {
    "duration": 11,
    "start_time": "2024-10-24T17:46:24.869Z"
   },
   {
    "duration": 27,
    "start_time": "2024-10-24T18:09:22.291Z"
   },
   {
    "duration": 65,
    "start_time": "2024-10-24T18:13:28.636Z"
   },
   {
    "duration": 27,
    "start_time": "2024-10-24T18:14:06.054Z"
   },
   {
    "duration": 8,
    "start_time": "2024-10-24T18:14:32.871Z"
   },
   {
    "duration": 25,
    "start_time": "2024-10-24T18:19:27.744Z"
   },
   {
    "duration": 8,
    "start_time": "2024-10-24T18:19:30.322Z"
   },
   {
    "duration": 835,
    "start_time": "2024-10-24T18:32:56.911Z"
   },
   {
    "duration": 16,
    "start_time": "2024-10-24T18:32:57.749Z"
   },
   {
    "duration": 11,
    "start_time": "2024-10-24T18:32:57.767Z"
   },
   {
    "duration": 7,
    "start_time": "2024-10-24T18:32:57.779Z"
   },
   {
    "duration": 3,
    "start_time": "2024-10-24T18:32:57.789Z"
   },
   {
    "duration": 6,
    "start_time": "2024-10-24T18:32:57.809Z"
   },
   {
    "duration": 7,
    "start_time": "2024-10-24T18:32:57.817Z"
   },
   {
    "duration": 5,
    "start_time": "2024-10-24T18:32:57.826Z"
   },
   {
    "duration": 4,
    "start_time": "2024-10-24T18:32:57.833Z"
   },
   {
    "duration": 27,
    "start_time": "2024-10-24T18:32:57.838Z"
   },
   {
    "duration": 42,
    "start_time": "2024-10-24T18:32:57.867Z"
   },
   {
    "duration": 26,
    "start_time": "2024-10-24T19:48:22.944Z"
   },
   {
    "duration": 10,
    "start_time": "2024-10-24T19:48:32.624Z"
   },
   {
    "duration": 145,
    "start_time": "2024-10-24T19:59:42.526Z"
   },
   {
    "duration": 16,
    "start_time": "2024-10-24T19:59:54.706Z"
   },
   {
    "duration": 20,
    "start_time": "2024-10-24T20:00:14.841Z"
   },
   {
    "duration": 10,
    "start_time": "2024-10-24T20:00:27.838Z"
   },
   {
    "duration": 6,
    "start_time": "2024-10-24T20:07:43.929Z"
   },
   {
    "duration": 10,
    "start_time": "2024-10-24T20:07:58.512Z"
   },
   {
    "duration": 9,
    "start_time": "2024-10-24T20:08:44.764Z"
   },
   {
    "duration": 8,
    "start_time": "2024-10-24T21:18:07.756Z"
   },
   {
    "duration": 227,
    "start_time": "2024-10-24T21:37:13.305Z"
   },
   {
    "duration": 15,
    "start_time": "2024-10-24T21:37:47.658Z"
   },
   {
    "duration": 14,
    "start_time": "2024-10-24T21:39:21.896Z"
   },
   {
    "duration": 16,
    "start_time": "2024-10-24T21:39:59.788Z"
   },
   {
    "duration": 3,
    "start_time": "2024-10-24T21:40:12.691Z"
   },
   {
    "duration": 5,
    "start_time": "2024-10-24T21:40:15.967Z"
   },
   {
    "duration": 6,
    "start_time": "2024-10-24T21:41:35.742Z"
   },
   {
    "duration": 445,
    "start_time": "2024-10-24T21:42:11.731Z"
   },
   {
    "duration": 464,
    "start_time": "2024-10-24T21:43:48.963Z"
   },
   {
    "duration": 3,
    "start_time": "2024-10-24T21:48:22.869Z"
   },
   {
    "duration": 127,
    "start_time": "2024-10-24T21:48:45.725Z"
   },
   {
    "duration": 4,
    "start_time": "2024-10-24T21:48:53.769Z"
   },
   {
    "duration": 8,
    "start_time": "2024-10-24T21:50:09.263Z"
   },
   {
    "duration": 159,
    "start_time": "2024-10-25T01:22:11.129Z"
   },
   {
    "duration": 772,
    "start_time": "2024-10-25T01:22:34.338Z"
   },
   {
    "duration": 25,
    "start_time": "2024-10-25T01:22:35.113Z"
   },
   {
    "duration": 9,
    "start_time": "2024-10-25T01:22:35.140Z"
   },
   {
    "duration": 7,
    "start_time": "2024-10-25T01:22:35.151Z"
   },
   {
    "duration": 3,
    "start_time": "2024-10-25T01:22:35.160Z"
   },
   {
    "duration": 4,
    "start_time": "2024-10-25T01:22:35.165Z"
   },
   {
    "duration": 8,
    "start_time": "2024-10-25T01:22:35.171Z"
   },
   {
    "duration": 5,
    "start_time": "2024-10-25T01:22:35.181Z"
   },
   {
    "duration": 4,
    "start_time": "2024-10-25T01:22:35.187Z"
   },
   {
    "duration": 59,
    "start_time": "2024-10-25T01:22:35.192Z"
   },
   {
    "duration": 6,
    "start_time": "2024-10-25T01:22:35.253Z"
   },
   {
    "duration": 5,
    "start_time": "2024-10-25T01:22:35.261Z"
   },
   {
    "duration": 5,
    "start_time": "2024-10-25T01:22:35.267Z"
   },
   {
    "duration": 894,
    "start_time": "2024-10-25T01:22:35.275Z"
   },
   {
    "duration": 6,
    "start_time": "2024-10-25T01:22:36.170Z"
   },
   {
    "duration": 3,
    "start_time": "2024-10-25T01:25:45.335Z"
   },
   {
    "duration": 215,
    "start_time": "2024-10-25T01:28:37.230Z"
   },
   {
    "duration": 6,
    "start_time": "2024-10-25T01:28:52.878Z"
   },
   {
    "duration": 14,
    "start_time": "2024-10-25T01:30:29.696Z"
   },
   {
    "duration": 6,
    "start_time": "2024-10-25T01:32:08.549Z"
   },
   {
    "duration": 6,
    "start_time": "2024-10-25T01:32:37.017Z"
   },
   {
    "duration": 6,
    "start_time": "2024-10-25T01:53:20.212Z"
   },
   {
    "duration": 15,
    "start_time": "2024-10-25T02:13:40.313Z"
   },
   {
    "duration": 3,
    "start_time": "2024-10-25T02:15:20.811Z"
   },
   {
    "duration": 3,
    "start_time": "2024-10-25T02:15:24.633Z"
   },
   {
    "duration": 92,
    "start_time": "2024-10-25T02:15:55.634Z"
   },
   {
    "duration": 11,
    "start_time": "2024-10-25T02:16:18.887Z"
   },
   {
    "duration": 88,
    "start_time": "2024-10-25T02:16:22.773Z"
   },
   {
    "duration": 1012,
    "start_time": "2024-10-25T16:36:37.983Z"
   },
   {
    "duration": 3,
    "start_time": "2024-10-25T16:36:45.043Z"
   },
   {
    "duration": 791,
    "start_time": "2024-10-25T17:06:21.992Z"
   },
   {
    "duration": 27,
    "start_time": "2024-10-25T17:06:22.785Z"
   },
   {
    "duration": 12,
    "start_time": "2024-10-25T17:06:22.814Z"
   },
   {
    "duration": 8,
    "start_time": "2024-10-25T17:06:22.827Z"
   },
   {
    "duration": 3,
    "start_time": "2024-10-25T17:06:22.838Z"
   },
   {
    "duration": 4,
    "start_time": "2024-10-25T17:06:22.843Z"
   },
   {
    "duration": 7,
    "start_time": "2024-10-25T17:06:22.848Z"
   },
   {
    "duration": 4,
    "start_time": "2024-10-25T17:06:22.857Z"
   },
   {
    "duration": 4,
    "start_time": "2024-10-25T17:06:22.863Z"
   },
   {
    "duration": 55,
    "start_time": "2024-10-25T17:06:22.869Z"
   },
   {
    "duration": 7,
    "start_time": "2024-10-25T17:06:22.926Z"
   },
   {
    "duration": 4,
    "start_time": "2024-10-25T17:06:22.935Z"
   },
   {
    "duration": 5,
    "start_time": "2024-10-25T17:06:22.941Z"
   },
   {
    "duration": 24,
    "start_time": "2024-10-25T17:06:22.949Z"
   },
   {
    "duration": 53,
    "start_time": "2024-10-25T17:06:22.975Z"
   },
   {
    "duration": 977,
    "start_time": "2024-10-25T17:06:23.030Z"
   },
   {
    "duration": 15,
    "start_time": "2024-10-25T17:06:24.009Z"
   },
   {
    "duration": 6,
    "start_time": "2024-10-25T17:06:24.026Z"
   },
   {
    "duration": 4,
    "start_time": "2024-10-25T17:06:24.033Z"
   },
   {
    "duration": 2049,
    "start_time": "2024-10-25T17:06:24.038Z"
   },
   {
    "duration": 287,
    "start_time": "2024-10-25T17:06:26.089Z"
   },
   {
    "duration": 0,
    "start_time": "2024-10-25T17:06:26.378Z"
   },
   {
    "duration": 0,
    "start_time": "2024-10-25T17:06:26.379Z"
   },
   {
    "duration": 0,
    "start_time": "2024-10-25T17:06:26.380Z"
   },
   {
    "duration": 67,
    "start_time": "2024-10-25T17:09:14.725Z"
   },
   {
    "duration": 5,
    "start_time": "2024-10-25T17:09:16.852Z"
   },
   {
    "duration": 867,
    "start_time": "2024-10-25T17:09:20.323Z"
   },
   {
    "duration": 854,
    "start_time": "2024-10-25T17:09:37.159Z"
   },
   {
    "duration": 872,
    "start_time": "2024-10-25T17:10:12.097Z"
   },
   {
    "duration": 5,
    "start_time": "2024-10-25T17:10:16.787Z"
   },
   {
    "duration": 762,
    "start_time": "2024-10-25T17:13:01.082Z"
   },
   {
    "duration": 16,
    "start_time": "2024-10-25T17:13:01.846Z"
   },
   {
    "duration": 11,
    "start_time": "2024-10-25T17:13:01.863Z"
   },
   {
    "duration": 7,
    "start_time": "2024-10-25T17:13:01.877Z"
   },
   {
    "duration": 3,
    "start_time": "2024-10-25T17:13:01.886Z"
   },
   {
    "duration": 4,
    "start_time": "2024-10-25T17:13:01.890Z"
   },
   {
    "duration": 33,
    "start_time": "2024-10-25T17:13:01.896Z"
   },
   {
    "duration": 4,
    "start_time": "2024-10-25T17:13:01.931Z"
   },
   {
    "duration": 3,
    "start_time": "2024-10-25T17:13:01.937Z"
   },
   {
    "duration": 19,
    "start_time": "2024-10-25T17:13:01.944Z"
   },
   {
    "duration": 7,
    "start_time": "2024-10-25T17:13:01.964Z"
   },
   {
    "duration": 4,
    "start_time": "2024-10-25T17:13:01.972Z"
   },
   {
    "duration": 5,
    "start_time": "2024-10-25T17:13:01.977Z"
   },
   {
    "duration": 23,
    "start_time": "2024-10-25T17:13:02.023Z"
   },
   {
    "duration": 8,
    "start_time": "2024-10-25T17:13:02.048Z"
   },
   {
    "duration": 1001,
    "start_time": "2024-10-25T17:13:02.058Z"
   },
   {
    "duration": 5,
    "start_time": "2024-10-25T17:13:03.061Z"
   },
   {
    "duration": 5,
    "start_time": "2024-10-25T17:13:03.068Z"
   },
   {
    "duration": 4,
    "start_time": "2024-10-25T17:13:03.075Z"
   },
   {
    "duration": 296,
    "start_time": "2024-10-25T17:13:03.080Z"
   },
   {
    "duration": 71,
    "start_time": "2024-10-25T17:13:03.377Z"
   },
   {
    "duration": 6,
    "start_time": "2024-10-25T17:13:03.449Z"
   },
   {
    "duration": 1007,
    "start_time": "2024-10-25T17:13:03.456Z"
   },
   {
    "duration": 5,
    "start_time": "2024-10-25T17:13:04.465Z"
   },
   {
    "duration": 3,
    "start_time": "2024-10-25T18:22:26.316Z"
   },
   {
    "duration": 7,
    "start_time": "2024-10-25T19:39:28.801Z"
   },
   {
    "duration": 3,
    "start_time": "2024-10-25T19:39:34.096Z"
   },
   {
    "duration": 3,
    "start_time": "2024-10-25T19:41:09.311Z"
   },
   {
    "duration": 13,
    "start_time": "2024-10-25T19:41:13.480Z"
   },
   {
    "duration": 3,
    "start_time": "2024-10-25T19:42:15.375Z"
   },
   {
    "duration": 3,
    "start_time": "2024-10-25T19:42:28.983Z"
   },
   {
    "duration": 20,
    "start_time": "2024-10-25T19:43:46.777Z"
   },
   {
    "duration": 6,
    "start_time": "2024-10-25T19:43:49.480Z"
   },
   {
    "duration": 782,
    "start_time": "2024-10-25T19:44:06.182Z"
   },
   {
    "duration": 17,
    "start_time": "2024-10-25T19:44:06.966Z"
   },
   {
    "duration": 10,
    "start_time": "2024-10-25T19:44:06.985Z"
   },
   {
    "duration": 8,
    "start_time": "2024-10-25T19:44:06.997Z"
   },
   {
    "duration": 18,
    "start_time": "2024-10-25T19:44:07.007Z"
   },
   {
    "duration": 4,
    "start_time": "2024-10-25T19:44:07.028Z"
   },
   {
    "duration": 7,
    "start_time": "2024-10-25T19:44:07.033Z"
   },
   {
    "duration": 5,
    "start_time": "2024-10-25T19:44:07.042Z"
   },
   {
    "duration": 4,
    "start_time": "2024-10-25T19:44:07.048Z"
   },
   {
    "duration": 19,
    "start_time": "2024-10-25T19:44:07.053Z"
   },
   {
    "duration": 8,
    "start_time": "2024-10-25T19:44:07.073Z"
   },
   {
    "duration": 44,
    "start_time": "2024-10-25T19:44:07.084Z"
   },
   {
    "duration": 5,
    "start_time": "2024-10-25T19:44:07.130Z"
   },
   {
    "duration": 22,
    "start_time": "2024-10-25T19:44:07.138Z"
   },
   {
    "duration": 6,
    "start_time": "2024-10-25T19:44:07.161Z"
   },
   {
    "duration": 1037,
    "start_time": "2024-10-25T19:44:07.169Z"
   },
   {
    "duration": 5,
    "start_time": "2024-10-25T19:44:08.208Z"
   },
   {
    "duration": 8,
    "start_time": "2024-10-25T19:44:08.224Z"
   },
   {
    "duration": 4,
    "start_time": "2024-10-25T19:44:08.234Z"
   },
   {
    "duration": 305,
    "start_time": "2024-10-25T19:44:08.240Z"
   },
   {
    "duration": 77,
    "start_time": "2024-10-25T19:44:08.547Z"
   },
   {
    "duration": 6,
    "start_time": "2024-10-25T19:44:08.626Z"
   },
   {
    "duration": 3,
    "start_time": "2024-10-25T19:44:08.634Z"
   },
   {
    "duration": 5,
    "start_time": "2024-10-25T19:44:08.639Z"
   },
   {
    "duration": 83,
    "start_time": "2024-10-25T19:44:08.646Z"
   },
   {
    "duration": 3,
    "start_time": "2024-10-25T19:44:08.731Z"
   },
   {
    "duration": 20,
    "start_time": "2024-10-25T19:44:08.736Z"
   },
   {
    "duration": 6,
    "start_time": "2024-10-25T19:44:08.760Z"
   },
   {
    "duration": 1120,
    "start_time": "2024-10-25T19:44:08.827Z"
   },
   {
    "duration": 6,
    "start_time": "2024-10-25T19:44:09.948Z"
   },
   {
    "duration": 822,
    "start_time": "2024-10-25T19:49:55.026Z"
   },
   {
    "duration": 16,
    "start_time": "2024-10-25T19:49:55.850Z"
   },
   {
    "duration": 10,
    "start_time": "2024-10-25T19:49:55.868Z"
   },
   {
    "duration": 7,
    "start_time": "2024-10-25T19:49:55.880Z"
   },
   {
    "duration": 3,
    "start_time": "2024-10-25T19:49:55.890Z"
   },
   {
    "duration": 33,
    "start_time": "2024-10-25T19:49:55.895Z"
   },
   {
    "duration": 7,
    "start_time": "2024-10-25T19:49:55.930Z"
   },
   {
    "duration": 6,
    "start_time": "2024-10-25T19:49:55.938Z"
   },
   {
    "duration": 4,
    "start_time": "2024-10-25T19:49:55.945Z"
   },
   {
    "duration": 20,
    "start_time": "2024-10-25T19:49:55.950Z"
   },
   {
    "duration": 6,
    "start_time": "2024-10-25T19:49:55.971Z"
   },
   {
    "duration": 4,
    "start_time": "2024-10-25T19:49:55.979Z"
   },
   {
    "duration": 42,
    "start_time": "2024-10-25T19:49:55.984Z"
   },
   {
    "duration": 19,
    "start_time": "2024-10-25T19:49:56.029Z"
   },
   {
    "duration": 6,
    "start_time": "2024-10-25T19:49:56.049Z"
   },
   {
    "duration": 1039,
    "start_time": "2024-10-25T19:49:56.056Z"
   },
   {
    "duration": 6,
    "start_time": "2024-10-25T19:49:57.097Z"
   },
   {
    "duration": 19,
    "start_time": "2024-10-25T19:49:57.105Z"
   },
   {
    "duration": 4,
    "start_time": "2024-10-25T19:49:57.126Z"
   },
   {
    "duration": 294,
    "start_time": "2024-10-25T19:49:57.131Z"
   },
   {
    "duration": 69,
    "start_time": "2024-10-25T19:49:57.427Z"
   },
   {
    "duration": 35,
    "start_time": "2024-10-25T19:49:57.498Z"
   },
   {
    "duration": 3,
    "start_time": "2024-10-25T19:49:57.535Z"
   },
   {
    "duration": 6,
    "start_time": "2024-10-25T19:49:57.540Z"
   },
   {
    "duration": 83,
    "start_time": "2024-10-25T19:49:57.547Z"
   },
   {
    "duration": 250,
    "start_time": "2024-10-25T19:49:57.632Z"
   },
   {
    "duration": 0,
    "start_time": "2024-10-25T19:49:57.884Z"
   },
   {
    "duration": 0,
    "start_time": "2024-10-25T19:49:57.885Z"
   },
   {
    "duration": 0,
    "start_time": "2024-10-25T19:49:57.886Z"
   },
   {
    "duration": 0,
    "start_time": "2024-10-25T19:49:57.888Z"
   },
   {
    "duration": 3,
    "start_time": "2024-10-25T19:50:33.941Z"
   },
   {
    "duration": 26,
    "start_time": "2024-10-25T19:50:41.358Z"
   },
   {
    "duration": 5,
    "start_time": "2024-10-25T19:50:48.730Z"
   },
   {
    "duration": 23,
    "start_time": "2024-10-25T19:51:38.791Z"
   },
   {
    "duration": 10,
    "start_time": "2024-10-25T19:51:57.706Z"
   },
   {
    "duration": 3,
    "start_time": "2024-10-25T19:52:02.731Z"
   },
   {
    "duration": 75,
    "start_time": "2024-10-25T19:52:08.965Z"
   },
   {
    "duration": 5,
    "start_time": "2024-10-25T19:52:13.262Z"
   },
   {
    "duration": 755,
    "start_time": "2024-10-25T20:34:31.414Z"
   },
   {
    "duration": 15,
    "start_time": "2024-10-25T20:34:32.171Z"
   },
   {
    "duration": 11,
    "start_time": "2024-10-25T20:34:32.188Z"
   },
   {
    "duration": 24,
    "start_time": "2024-10-25T20:34:32.200Z"
   },
   {
    "duration": 4,
    "start_time": "2024-10-25T20:34:32.226Z"
   },
   {
    "duration": 5,
    "start_time": "2024-10-25T20:34:32.232Z"
   },
   {
    "duration": 7,
    "start_time": "2024-10-25T20:34:32.239Z"
   },
   {
    "duration": 5,
    "start_time": "2024-10-25T20:34:32.247Z"
   },
   {
    "duration": 3,
    "start_time": "2024-10-25T20:34:32.254Z"
   },
   {
    "duration": 23,
    "start_time": "2024-10-25T20:34:32.259Z"
   },
   {
    "duration": 41,
    "start_time": "2024-10-25T20:34:32.284Z"
   },
   {
    "duration": 4,
    "start_time": "2024-10-25T20:34:32.327Z"
   },
   {
    "duration": 6,
    "start_time": "2024-10-25T20:34:32.333Z"
   },
   {
    "duration": 27,
    "start_time": "2024-10-25T20:34:32.344Z"
   },
   {
    "duration": 53,
    "start_time": "2024-10-25T20:34:32.374Z"
   },
   {
    "duration": 970,
    "start_time": "2024-10-25T20:34:32.430Z"
   },
   {
    "duration": 5,
    "start_time": "2024-10-25T20:34:33.402Z"
   },
   {
    "duration": 20,
    "start_time": "2024-10-25T20:34:33.408Z"
   },
   {
    "duration": 4,
    "start_time": "2024-10-25T20:34:33.430Z"
   },
   {
    "duration": 332,
    "start_time": "2024-10-25T20:34:33.436Z"
   },
   {
    "duration": 113,
    "start_time": "2024-10-25T20:34:33.771Z"
   },
   {
    "duration": 6,
    "start_time": "2024-10-25T20:34:33.886Z"
   },
   {
    "duration": 3,
    "start_time": "2024-10-25T20:34:33.925Z"
   },
   {
    "duration": 8,
    "start_time": "2024-10-25T20:34:33.930Z"
   },
   {
    "duration": 16,
    "start_time": "2024-10-25T20:34:33.940Z"
   },
   {
    "duration": 3,
    "start_time": "2024-10-25T20:34:34.025Z"
   },
   {
    "duration": 20,
    "start_time": "2024-10-25T20:34:34.030Z"
   },
   {
    "duration": 5,
    "start_time": "2024-10-25T20:34:34.052Z"
   },
   {
    "duration": 5,
    "start_time": "2024-10-25T20:34:34.059Z"
   },
   {
    "duration": 63,
    "start_time": "2024-10-25T20:34:34.066Z"
   },
   {
    "duration": 21,
    "start_time": "2024-10-25T20:34:34.131Z"
   },
   {
    "duration": 72,
    "start_time": "2024-10-25T20:34:34.155Z"
   },
   {
    "duration": 940,
    "start_time": "2024-10-25T20:34:34.229Z"
   },
   {
    "duration": 6,
    "start_time": "2024-10-25T20:34:35.170Z"
   },
   {
    "duration": 387,
    "start_time": "2024-10-25T21:32:31.741Z"
   },
   {
    "duration": 19,
    "start_time": "2024-10-25T21:32:53.999Z"
   },
   {
    "duration": 928,
    "start_time": "2024-10-25T22:47:48.748Z"
   },
   {
    "duration": 18,
    "start_time": "2024-10-25T22:47:49.678Z"
   },
   {
    "duration": 12,
    "start_time": "2024-10-25T22:47:49.698Z"
   },
   {
    "duration": 10,
    "start_time": "2024-10-25T22:47:49.723Z"
   },
   {
    "duration": 3,
    "start_time": "2024-10-25T22:47:49.737Z"
   },
   {
    "duration": 4,
    "start_time": "2024-10-25T22:47:49.743Z"
   },
   {
    "duration": 9,
    "start_time": "2024-10-25T22:47:49.749Z"
   },
   {
    "duration": 4,
    "start_time": "2024-10-25T22:47:49.760Z"
   },
   {
    "duration": 4,
    "start_time": "2024-10-25T22:47:49.766Z"
   },
   {
    "duration": 56,
    "start_time": "2024-10-25T22:47:49.772Z"
   },
   {
    "duration": 8,
    "start_time": "2024-10-25T22:47:49.831Z"
   },
   {
    "duration": 5,
    "start_time": "2024-10-25T22:47:49.843Z"
   },
   {
    "duration": 5,
    "start_time": "2024-10-25T22:47:49.850Z"
   },
   {
    "duration": 66,
    "start_time": "2024-10-25T22:47:49.859Z"
   },
   {
    "duration": 9,
    "start_time": "2024-10-25T22:47:49.928Z"
   },
   {
    "duration": 1035,
    "start_time": "2024-10-25T22:47:49.940Z"
   },
   {
    "duration": 6,
    "start_time": "2024-10-25T22:47:50.977Z"
   },
   {
    "duration": 6,
    "start_time": "2024-10-25T22:47:50.985Z"
   },
   {
    "duration": 7,
    "start_time": "2024-10-25T22:47:50.993Z"
   },
   {
    "duration": 362,
    "start_time": "2024-10-25T22:47:51.002Z"
   },
   {
    "duration": 105,
    "start_time": "2024-10-25T22:47:51.366Z"
   },
   {
    "duration": 5,
    "start_time": "2024-10-25T22:47:51.473Z"
   },
   {
    "duration": 4,
    "start_time": "2024-10-25T22:47:51.480Z"
   },
   {
    "duration": 38,
    "start_time": "2024-10-25T22:47:51.487Z"
   },
   {
    "duration": 21,
    "start_time": "2024-10-25T22:47:51.527Z"
   },
   {
    "duration": 5,
    "start_time": "2024-10-25T22:47:51.551Z"
   },
   {
    "duration": 32,
    "start_time": "2024-10-25T22:47:51.625Z"
   },
   {
    "duration": 10,
    "start_time": "2024-10-25T22:47:51.660Z"
   },
   {
    "duration": 391,
    "start_time": "2024-10-25T22:47:51.673Z"
   },
   {
    "duration": 0,
    "start_time": "2024-10-25T22:47:52.066Z"
   },
   {
    "duration": 0,
    "start_time": "2024-10-25T22:47:52.068Z"
   },
   {
    "duration": 0,
    "start_time": "2024-10-25T22:47:52.069Z"
   },
   {
    "duration": 0,
    "start_time": "2024-10-25T22:47:52.071Z"
   },
   {
    "duration": 0,
    "start_time": "2024-10-25T22:47:52.072Z"
   },
   {
    "duration": 0,
    "start_time": "2024-10-25T22:47:52.073Z"
   },
   {
    "duration": 0,
    "start_time": "2024-10-25T22:47:52.074Z"
   },
   {
    "duration": 0,
    "start_time": "2024-10-25T22:47:52.076Z"
   },
   {
    "duration": 0,
    "start_time": "2024-10-25T22:47:52.078Z"
   },
   {
    "duration": 28,
    "start_time": "2024-10-25T22:48:07.318Z"
   },
   {
    "duration": 3,
    "start_time": "2024-10-25T22:48:26.794Z"
   },
   {
    "duration": 243,
    "start_time": "2024-10-25T22:48:59.652Z"
   },
   {
    "duration": 24,
    "start_time": "2024-10-25T22:49:25.934Z"
   },
   {
    "duration": 3,
    "start_time": "2024-10-25T22:49:44.582Z"
   },
   {
    "duration": 241,
    "start_time": "2024-10-25T22:51:28.142Z"
   },
   {
    "duration": 5,
    "start_time": "2024-10-25T22:51:57.045Z"
   },
   {
    "duration": 9,
    "start_time": "2024-10-25T22:52:33.901Z"
   },
   {
    "duration": 4,
    "start_time": "2024-10-25T22:52:38.518Z"
   },
   {
    "duration": 21,
    "start_time": "2024-10-25T22:53:28.597Z"
   },
   {
    "duration": 6,
    "start_time": "2024-10-25T22:53:33.619Z"
   },
   {
    "duration": 206,
    "start_time": "2024-10-25T22:54:00.325Z"
   },
   {
    "duration": 4,
    "start_time": "2024-10-25T22:54:07.890Z"
   },
   {
    "duration": 4,
    "start_time": "2024-10-25T22:54:45.494Z"
   },
   {
    "duration": 9,
    "start_time": "2024-10-25T22:54:49.262Z"
   },
   {
    "duration": 10,
    "start_time": "2024-10-25T22:54:55.219Z"
   },
   {
    "duration": 8,
    "start_time": "2024-10-25T22:55:10.664Z"
   },
   {
    "duration": 9,
    "start_time": "2024-10-25T22:57:33.799Z"
   },
   {
    "duration": 14,
    "start_time": "2024-10-25T22:57:38.581Z"
   },
   {
    "duration": 5,
    "start_time": "2024-10-25T22:57:41.485Z"
   },
   {
    "duration": 203,
    "start_time": "2024-10-25T23:00:35.871Z"
   },
   {
    "duration": 5,
    "start_time": "2024-10-25T23:01:05.127Z"
   },
   {
    "duration": 967,
    "start_time": "2024-10-25T23:02:06.748Z"
   },
   {
    "duration": 18,
    "start_time": "2024-10-25T23:02:07.717Z"
   },
   {
    "duration": 11,
    "start_time": "2024-10-25T23:02:07.737Z"
   },
   {
    "duration": 7,
    "start_time": "2024-10-25T23:02:07.750Z"
   },
   {
    "duration": 5,
    "start_time": "2024-10-25T23:02:07.760Z"
   },
   {
    "duration": 4,
    "start_time": "2024-10-25T23:02:07.767Z"
   },
   {
    "duration": 7,
    "start_time": "2024-10-25T23:02:07.773Z"
   },
   {
    "duration": 5,
    "start_time": "2024-10-25T23:02:07.782Z"
   },
   {
    "duration": 6,
    "start_time": "2024-10-25T23:02:07.824Z"
   },
   {
    "duration": 21,
    "start_time": "2024-10-25T23:02:07.832Z"
   },
   {
    "duration": 6,
    "start_time": "2024-10-25T23:02:07.854Z"
   },
   {
    "duration": 4,
    "start_time": "2024-10-25T23:02:07.863Z"
   },
   {
    "duration": 5,
    "start_time": "2024-10-25T23:02:07.870Z"
   },
   {
    "duration": 59,
    "start_time": "2024-10-25T23:02:07.879Z"
   },
   {
    "duration": 5,
    "start_time": "2024-10-25T23:02:07.940Z"
   },
   {
    "duration": 988,
    "start_time": "2024-10-25T23:02:07.946Z"
   },
   {
    "duration": 6,
    "start_time": "2024-10-25T23:02:08.936Z"
   },
   {
    "duration": 6,
    "start_time": "2024-10-25T23:02:08.944Z"
   },
   {
    "duration": 4,
    "start_time": "2024-10-25T23:02:08.952Z"
   },
   {
    "duration": 181,
    "start_time": "2024-10-25T23:02:08.958Z"
   },
   {
    "duration": 83,
    "start_time": "2024-10-25T23:02:09.141Z"
   },
   {
    "duration": 8,
    "start_time": "2024-10-25T23:02:09.226Z"
   },
   {
    "duration": 4,
    "start_time": "2024-10-25T23:02:09.236Z"
   },
   {
    "duration": 82,
    "start_time": "2024-10-25T23:02:09.242Z"
   },
   {
    "duration": 9,
    "start_time": "2024-10-25T23:02:09.326Z"
   },
   {
    "duration": 2,
    "start_time": "2024-10-25T23:02:09.337Z"
   },
   {
    "duration": 22,
    "start_time": "2024-10-25T23:02:09.341Z"
   },
   {
    "duration": 4,
    "start_time": "2024-10-25T23:02:09.365Z"
   },
   {
    "duration": 255,
    "start_time": "2024-10-25T23:02:09.371Z"
   },
   {
    "duration": 5,
    "start_time": "2024-10-25T23:02:09.627Z"
   },
   {
    "duration": 3,
    "start_time": "2024-10-25T23:02:09.634Z"
   },
   {
    "duration": 8,
    "start_time": "2024-10-25T23:02:09.639Z"
   },
   {
    "duration": 12,
    "start_time": "2024-10-25T23:02:09.648Z"
   },
   {
    "duration": 5,
    "start_time": "2024-10-25T23:02:09.661Z"
   },
   {
    "duration": 256,
    "start_time": "2024-10-25T23:02:09.668Z"
   },
   {
    "duration": 5,
    "start_time": "2024-10-25T23:02:09.926Z"
   },
   {
    "duration": 21,
    "start_time": "2024-10-25T23:02:09.933Z"
   },
   {
    "duration": 4,
    "start_time": "2024-10-25T23:02:09.955Z"
   },
   {
    "duration": 0,
    "start_time": "2024-10-25T23:02:09.961Z"
   },
   {
    "duration": 0,
    "start_time": "2024-10-25T23:02:09.962Z"
   },
   {
    "duration": 9,
    "start_time": "2024-10-25T23:05:54.084Z"
   },
   {
    "duration": 3,
    "start_time": "2024-10-25T23:05:56.365Z"
   },
   {
    "duration": 27,
    "start_time": "2024-10-25T23:05:58.345Z"
   },
   {
    "duration": 6,
    "start_time": "2024-10-25T23:06:00.527Z"
   },
   {
    "duration": 224,
    "start_time": "2024-10-25T23:06:06.960Z"
   },
   {
    "duration": 977,
    "start_time": "2024-10-25T23:10:25.536Z"
   },
   {
    "duration": 21,
    "start_time": "2024-10-25T23:10:26.515Z"
   },
   {
    "duration": 11,
    "start_time": "2024-10-25T23:10:26.537Z"
   },
   {
    "duration": 8,
    "start_time": "2024-10-25T23:10:26.550Z"
   },
   {
    "duration": 3,
    "start_time": "2024-10-25T23:10:26.561Z"
   },
   {
    "duration": 4,
    "start_time": "2024-10-25T23:10:26.566Z"
   },
   {
    "duration": 7,
    "start_time": "2024-10-25T23:10:26.572Z"
   },
   {
    "duration": 5,
    "start_time": "2024-10-25T23:10:26.580Z"
   },
   {
    "duration": 4,
    "start_time": "2024-10-25T23:10:26.624Z"
   },
   {
    "duration": 20,
    "start_time": "2024-10-25T23:10:26.630Z"
   },
   {
    "duration": 7,
    "start_time": "2024-10-25T23:10:26.652Z"
   },
   {
    "duration": 3,
    "start_time": "2024-10-25T23:10:26.661Z"
   },
   {
    "duration": 5,
    "start_time": "2024-10-25T23:10:26.666Z"
   },
   {
    "duration": 48,
    "start_time": "2024-10-25T23:10:26.676Z"
   },
   {
    "duration": 8,
    "start_time": "2024-10-25T23:10:26.726Z"
   },
   {
    "duration": 979,
    "start_time": "2024-10-25T23:10:26.736Z"
   },
   {
    "duration": 10,
    "start_time": "2024-10-25T23:10:27.717Z"
   },
   {
    "duration": 7,
    "start_time": "2024-10-25T23:10:27.729Z"
   },
   {
    "duration": 4,
    "start_time": "2024-10-25T23:10:27.738Z"
   },
   {
    "duration": 182,
    "start_time": "2024-10-25T23:10:27.744Z"
   },
   {
    "duration": 68,
    "start_time": "2024-10-25T23:10:27.928Z"
   },
   {
    "duration": 27,
    "start_time": "2024-10-25T23:10:27.998Z"
   },
   {
    "duration": 226,
    "start_time": "2024-10-25T23:10:28.027Z"
   },
   {
    "duration": 3,
    "start_time": "2024-10-25T23:10:28.255Z"
   },
   {
    "duration": 4,
    "start_time": "2024-10-25T23:10:28.260Z"
   },
   {
    "duration": 9,
    "start_time": "2024-10-25T23:10:28.265Z"
   },
   {
    "duration": 3,
    "start_time": "2024-10-25T23:10:28.276Z"
   },
   {
    "duration": 46,
    "start_time": "2024-10-25T23:10:28.280Z"
   },
   {
    "duration": 5,
    "start_time": "2024-10-25T23:10:28.328Z"
   },
   {
    "duration": 241,
    "start_time": "2024-10-25T23:10:28.335Z"
   },
   {
    "duration": 5,
    "start_time": "2024-10-25T23:10:28.578Z"
   },
   {
    "duration": 4,
    "start_time": "2024-10-25T23:10:28.584Z"
   },
   {
    "duration": 9,
    "start_time": "2024-10-25T23:10:28.590Z"
   },
   {
    "duration": 28,
    "start_time": "2024-10-25T23:10:28.602Z"
   },
   {
    "duration": 6,
    "start_time": "2024-10-25T23:10:28.632Z"
   },
   {
    "duration": 250,
    "start_time": "2024-10-25T23:10:28.640Z"
   },
   {
    "duration": 5,
    "start_time": "2024-10-25T23:10:28.892Z"
   },
   {
    "duration": 32,
    "start_time": "2024-10-25T23:10:28.900Z"
   },
   {
    "duration": 6,
    "start_time": "2024-10-25T23:10:28.936Z"
   },
   {
    "duration": 1,
    "start_time": "2024-10-25T23:10:28.944Z"
   },
   {
    "duration": 0,
    "start_time": "2024-10-25T23:10:28.946Z"
   },
   {
    "duration": 2695,
    "start_time": "2024-10-26T05:15:13.180Z"
   },
   {
    "duration": 27,
    "start_time": "2024-10-26T05:15:15.877Z"
   },
   {
    "duration": 13,
    "start_time": "2024-10-26T05:15:15.905Z"
   },
   {
    "duration": 7,
    "start_time": "2024-10-26T05:15:15.920Z"
   },
   {
    "duration": 3,
    "start_time": "2024-10-26T05:15:15.928Z"
   },
   {
    "duration": 5,
    "start_time": "2024-10-26T05:15:15.943Z"
   },
   {
    "duration": 7,
    "start_time": "2024-10-26T05:15:15.949Z"
   },
   {
    "duration": 5,
    "start_time": "2024-10-26T05:15:15.958Z"
   },
   {
    "duration": 4,
    "start_time": "2024-10-26T05:15:15.965Z"
   },
   {
    "duration": 19,
    "start_time": "2024-10-26T05:15:15.972Z"
   },
   {
    "duration": 6,
    "start_time": "2024-10-26T05:15:15.992Z"
   },
   {
    "duration": 43,
    "start_time": "2024-10-26T05:15:16.000Z"
   },
   {
    "duration": 5,
    "start_time": "2024-10-26T05:15:16.045Z"
   },
   {
    "duration": 18,
    "start_time": "2024-10-26T05:15:16.052Z"
   },
   {
    "duration": 5,
    "start_time": "2024-10-26T05:15:16.072Z"
   },
   {
    "duration": 1016,
    "start_time": "2024-10-26T05:15:16.078Z"
   },
   {
    "duration": 6,
    "start_time": "2024-10-26T05:15:17.095Z"
   },
   {
    "duration": 6,
    "start_time": "2024-10-26T05:15:17.102Z"
   },
   {
    "duration": 4,
    "start_time": "2024-10-26T05:15:17.110Z"
   },
   {
    "duration": 118,
    "start_time": "2024-10-26T05:15:17.115Z"
   },
   {
    "duration": 70,
    "start_time": "2024-10-26T05:15:17.243Z"
   },
   {
    "duration": 34,
    "start_time": "2024-10-26T05:15:17.314Z"
   },
   {
    "duration": 232,
    "start_time": "2024-10-26T05:15:17.350Z"
   },
   {
    "duration": 5,
    "start_time": "2024-10-26T05:15:17.584Z"
   },
   {
    "duration": 315,
    "start_time": "2024-10-26T05:15:17.590Z"
   },
   {
    "duration": 0,
    "start_time": "2024-10-26T05:15:17.909Z"
   },
   {
    "duration": 0,
    "start_time": "2024-10-26T05:15:17.910Z"
   },
   {
    "duration": 0,
    "start_time": "2024-10-26T05:15:17.912Z"
   },
   {
    "duration": 0,
    "start_time": "2024-10-26T05:15:17.913Z"
   },
   {
    "duration": 0,
    "start_time": "2024-10-26T05:15:17.915Z"
   },
   {
    "duration": 0,
    "start_time": "2024-10-26T05:15:17.916Z"
   },
   {
    "duration": 0,
    "start_time": "2024-10-26T05:15:17.918Z"
   },
   {
    "duration": 0,
    "start_time": "2024-10-26T05:15:17.943Z"
   },
   {
    "duration": 0,
    "start_time": "2024-10-26T05:15:17.944Z"
   },
   {
    "duration": 0,
    "start_time": "2024-10-26T05:15:17.945Z"
   },
   {
    "duration": 0,
    "start_time": "2024-10-26T05:15:17.946Z"
   },
   {
    "duration": 0,
    "start_time": "2024-10-26T05:15:17.947Z"
   },
   {
    "duration": 0,
    "start_time": "2024-10-26T05:15:17.948Z"
   },
   {
    "duration": 0,
    "start_time": "2024-10-26T05:15:17.949Z"
   },
   {
    "duration": 0,
    "start_time": "2024-10-26T05:15:17.950Z"
   },
   {
    "duration": 0,
    "start_time": "2024-10-26T05:15:17.951Z"
   },
   {
    "duration": 0,
    "start_time": "2024-10-26T05:15:17.952Z"
   },
   {
    "duration": 0,
    "start_time": "2024-10-26T05:15:17.953Z"
   },
   {
    "duration": 3,
    "start_time": "2024-10-26T05:15:43.231Z"
   },
   {
    "duration": 182,
    "start_time": "2024-10-26T05:16:40.592Z"
   },
   {
    "duration": 230,
    "start_time": "2024-10-26T05:17:30.486Z"
   },
   {
    "duration": 417,
    "start_time": "2024-10-26T05:17:57.008Z"
   },
   {
    "duration": 415,
    "start_time": "2024-10-26T05:22:46.884Z"
   },
   {
    "duration": 214,
    "start_time": "2024-10-26T05:23:08.013Z"
   },
   {
    "duration": 412,
    "start_time": "2024-10-26T05:23:45.547Z"
   },
   {
    "duration": 17,
    "start_time": "2024-10-26T05:36:23.750Z"
   },
   {
    "duration": 213,
    "start_time": "2024-10-26T05:36:33.082Z"
   },
   {
    "duration": 5,
    "start_time": "2024-10-26T05:36:39.585Z"
   },
   {
    "duration": 416,
    "start_time": "2024-10-26T05:36:44.406Z"
   },
   {
    "duration": 3,
    "start_time": "2024-10-26T05:58:16.226Z"
   },
   {
    "duration": 3,
    "start_time": "2024-10-26T06:02:36.181Z"
   },
   {
    "duration": 85,
    "start_time": "2024-10-26T06:02:38.357Z"
   },
   {
    "duration": 883,
    "start_time": "2024-10-26T06:04:46.912Z"
   },
   {
    "duration": 17,
    "start_time": "2024-10-26T06:04:47.797Z"
   },
   {
    "duration": 10,
    "start_time": "2024-10-26T06:04:47.815Z"
   },
   {
    "duration": 19,
    "start_time": "2024-10-26T06:04:47.827Z"
   },
   {
    "duration": 3,
    "start_time": "2024-10-26T06:04:47.849Z"
   },
   {
    "duration": 5,
    "start_time": "2024-10-26T06:04:47.853Z"
   },
   {
    "duration": 7,
    "start_time": "2024-10-26T06:04:47.860Z"
   },
   {
    "duration": 4,
    "start_time": "2024-10-26T06:04:47.869Z"
   },
   {
    "duration": 4,
    "start_time": "2024-10-26T06:04:47.875Z"
   },
   {
    "duration": 19,
    "start_time": "2024-10-26T06:04:47.880Z"
   },
   {
    "duration": 46,
    "start_time": "2024-10-26T06:04:47.901Z"
   },
   {
    "duration": 4,
    "start_time": "2024-10-26T06:04:47.950Z"
   },
   {
    "duration": 5,
    "start_time": "2024-10-26T06:04:47.956Z"
   },
   {
    "duration": 22,
    "start_time": "2024-10-26T06:04:47.965Z"
   },
   {
    "duration": 54,
    "start_time": "2024-10-26T06:04:47.988Z"
   },
   {
    "duration": 955,
    "start_time": "2024-10-26T06:04:48.044Z"
   },
   {
    "duration": 6,
    "start_time": "2024-10-26T06:04:49.002Z"
   },
   {
    "duration": 6,
    "start_time": "2024-10-26T06:04:49.010Z"
   },
   {
    "duration": 4,
    "start_time": "2024-10-26T06:04:49.017Z"
   },
   {
    "duration": 160,
    "start_time": "2024-10-26T06:04:49.042Z"
   },
   {
    "duration": 17,
    "start_time": "2024-10-26T06:04:49.204Z"
   },
   {
    "duration": 195,
    "start_time": "2024-10-26T06:04:49.223Z"
   },
   {
    "duration": 5,
    "start_time": "2024-10-26T06:04:49.420Z"
   },
   {
    "duration": 416,
    "start_time": "2024-10-26T06:04:49.427Z"
   },
   {
    "duration": 67,
    "start_time": "2024-10-26T06:04:49.844Z"
   },
   {
    "duration": 33,
    "start_time": "2024-10-26T06:04:49.912Z"
   },
   {
    "duration": 217,
    "start_time": "2024-10-26T06:04:49.947Z"
   },
   {
    "duration": 5,
    "start_time": "2024-10-26T06:04:50.165Z"
   },
   {
    "duration": 461,
    "start_time": "2024-10-26T06:04:50.172Z"
   },
   {
    "duration": 8,
    "start_time": "2024-10-26T06:04:50.635Z"
   },
   {
    "duration": 4,
    "start_time": "2024-10-26T06:04:50.644Z"
   },
   {
    "duration": 9,
    "start_time": "2024-10-26T06:04:50.650Z"
   },
   {
    "duration": 3,
    "start_time": "2024-10-26T06:04:50.661Z"
   },
   {
    "duration": 20,
    "start_time": "2024-10-26T06:04:50.666Z"
   },
   {
    "duration": 55,
    "start_time": "2024-10-26T06:04:50.688Z"
   },
   {
    "duration": 237,
    "start_time": "2024-10-26T06:04:50.745Z"
   },
   {
    "duration": 5,
    "start_time": "2024-10-26T06:04:50.985Z"
   },
   {
    "duration": 4,
    "start_time": "2024-10-26T06:04:50.992Z"
   },
   {
    "duration": 8,
    "start_time": "2024-10-26T06:04:50.998Z"
   },
   {
    "duration": 48,
    "start_time": "2024-10-26T06:04:51.008Z"
   },
   {
    "duration": 5,
    "start_time": "2024-10-26T06:04:51.061Z"
   },
   {
    "duration": 251,
    "start_time": "2024-10-26T06:04:51.068Z"
   },
   {
    "duration": 5,
    "start_time": "2024-10-26T06:04:51.321Z"
   },
   {
    "duration": 875,
    "start_time": "2024-10-26T06:04:51.328Z"
   },
   {
    "duration": 6,
    "start_time": "2024-10-26T06:04:52.205Z"
   },
   {
    "duration": 9,
    "start_time": "2024-10-26T06:06:46.506Z"
   },
   {
    "duration": 10,
    "start_time": "2024-10-26T06:06:49.276Z"
   },
   {
    "duration": 5,
    "start_time": "2024-10-26T06:06:50.419Z"
   },
   {
    "duration": 180,
    "start_time": "2024-10-26T06:06:51.832Z"
   },
   {
    "duration": 9,
    "start_time": "2024-10-26T06:07:03.122Z"
   },
   {
    "duration": 21,
    "start_time": "2024-10-26T06:07:04.085Z"
   },
   {
    "duration": 6,
    "start_time": "2024-10-26T06:07:04.914Z"
   },
   {
    "duration": 236,
    "start_time": "2024-10-26T06:07:06.062Z"
   },
   {
    "duration": 425,
    "start_time": "2024-10-26T06:26:27.483Z"
   },
   {
    "duration": 49160,
    "start_time": "2024-10-26T07:56:22.753Z"
   },
   {
    "duration": 15,
    "start_time": "2024-10-26T07:58:12.543Z"
   },
   {
    "duration": 3,
    "start_time": "2024-10-26T07:59:12.066Z"
   },
   {
    "duration": 49063,
    "start_time": "2024-10-26T08:03:10.984Z"
   },
   {
    "duration": 128,
    "start_time": "2024-10-26T08:06:53.331Z"
   },
   {
    "duration": 6,
    "start_time": "2024-10-26T08:07:17.069Z"
   },
   {
    "duration": 9,
    "start_time": "2024-10-26T08:12:23.658Z"
   },
   {
    "duration": 23228,
    "start_time": "2024-10-26T08:12:33.222Z"
   },
   {
    "duration": 126,
    "start_time": "2024-10-26T08:13:49.541Z"
   },
   {
    "duration": 5,
    "start_time": "2024-10-26T08:14:19.332Z"
   },
   {
    "duration": 909,
    "start_time": "2024-10-26T08:21:47.583Z"
   },
   {
    "duration": 16,
    "start_time": "2024-10-26T08:21:48.493Z"
   },
   {
    "duration": 11,
    "start_time": "2024-10-26T08:21:48.510Z"
   },
   {
    "duration": 7,
    "start_time": "2024-10-26T08:21:48.523Z"
   },
   {
    "duration": 3,
    "start_time": "2024-10-26T08:21:48.543Z"
   },
   {
    "duration": 5,
    "start_time": "2024-10-26T08:21:48.548Z"
   },
   {
    "duration": 6,
    "start_time": "2024-10-26T08:21:48.555Z"
   },
   {
    "duration": 4,
    "start_time": "2024-10-26T08:21:48.563Z"
   },
   {
    "duration": 4,
    "start_time": "2024-10-26T08:21:48.568Z"
   },
   {
    "duration": 19,
    "start_time": "2024-10-26T08:21:48.575Z"
   },
   {
    "duration": 48,
    "start_time": "2024-10-26T08:21:48.595Z"
   },
   {
    "duration": 4,
    "start_time": "2024-10-26T08:21:48.644Z"
   },
   {
    "duration": 4,
    "start_time": "2024-10-26T08:21:48.650Z"
   },
   {
    "duration": 22,
    "start_time": "2024-10-26T08:21:48.656Z"
   },
   {
    "duration": 6,
    "start_time": "2024-10-26T08:21:48.679Z"
   },
   {
    "duration": 954,
    "start_time": "2024-10-26T08:21:48.743Z"
   },
   {
    "duration": 5,
    "start_time": "2024-10-26T08:21:49.699Z"
   },
   {
    "duration": 5,
    "start_time": "2024-10-26T08:21:49.706Z"
   },
   {
    "duration": 5,
    "start_time": "2024-10-26T08:21:49.712Z"
   },
   {
    "duration": 165,
    "start_time": "2024-10-26T08:21:49.718Z"
   },
   {
    "duration": 17,
    "start_time": "2024-10-26T08:21:49.885Z"
   },
   {
    "duration": 212,
    "start_time": "2024-10-26T08:21:49.904Z"
   },
   {
    "duration": 5,
    "start_time": "2024-10-26T08:21:50.117Z"
   },
   {
    "duration": 455,
    "start_time": "2024-10-26T08:21:50.124Z"
   },
   {
    "duration": 82,
    "start_time": "2024-10-26T08:21:50.581Z"
   },
   {
    "duration": 7,
    "start_time": "2024-10-26T08:21:50.665Z"
   },
   {
    "duration": 247,
    "start_time": "2024-10-26T08:21:50.674Z"
   },
   {
    "duration": 18,
    "start_time": "2024-10-26T08:21:50.926Z"
   },
   {
    "duration": 449,
    "start_time": "2024-10-26T08:21:50.946Z"
   },
   {
    "duration": 3,
    "start_time": "2024-10-26T08:21:51.397Z"
   },
   {
    "duration": 4,
    "start_time": "2024-10-26T08:21:51.401Z"
   },
   {
    "duration": 9,
    "start_time": "2024-10-26T08:21:51.406Z"
   },
   {
    "duration": 3,
    "start_time": "2024-10-26T08:21:51.417Z"
   },
   {
    "duration": 24,
    "start_time": "2024-10-26T08:21:51.443Z"
   },
   {
    "duration": 6,
    "start_time": "2024-10-26T08:21:51.472Z"
   },
   {
    "duration": 205,
    "start_time": "2024-10-26T08:21:51.542Z"
   },
   {
    "duration": 5,
    "start_time": "2024-10-26T08:21:51.749Z"
   },
   {
    "duration": 4,
    "start_time": "2024-10-26T08:21:51.755Z"
   },
   {
    "duration": 9,
    "start_time": "2024-10-26T08:21:51.762Z"
   },
   {
    "duration": 26,
    "start_time": "2024-10-26T08:21:51.772Z"
   },
   {
    "duration": 10,
    "start_time": "2024-10-26T08:21:51.842Z"
   },
   {
    "duration": 251,
    "start_time": "2024-10-26T08:21:51.853Z"
   },
   {
    "duration": 4,
    "start_time": "2024-10-26T08:21:52.107Z"
   },
   {
    "duration": 429,
    "start_time": "2024-10-26T08:21:52.113Z"
   },
   {
    "duration": 6,
    "start_time": "2024-10-26T08:21:52.544Z"
   },
   {
    "duration": 48550,
    "start_time": "2024-10-26T08:21:52.552Z"
   },
   {
    "duration": 131,
    "start_time": "2024-10-26T08:22:41.104Z"
   },
   {
    "duration": 6,
    "start_time": "2024-10-26T08:22:41.237Z"
   },
   {
    "duration": 9,
    "start_time": "2024-10-26T08:22:41.244Z"
   },
   {
    "duration": 22888,
    "start_time": "2024-10-26T08:22:41.255Z"
   },
   {
    "duration": 122,
    "start_time": "2024-10-26T08:23:04.145Z"
   },
   {
    "duration": 5,
    "start_time": "2024-10-26T08:23:04.269Z"
   },
   {
    "duration": 983,
    "start_time": "2024-10-26T08:41:26.841Z"
   },
   {
    "duration": 19,
    "start_time": "2024-10-26T08:41:27.826Z"
   },
   {
    "duration": 11,
    "start_time": "2024-10-26T08:41:27.846Z"
   },
   {
    "duration": 7,
    "start_time": "2024-10-26T08:41:27.860Z"
   },
   {
    "duration": 3,
    "start_time": "2024-10-26T08:41:27.869Z"
   },
   {
    "duration": 4,
    "start_time": "2024-10-26T08:41:27.873Z"
   },
   {
    "duration": 7,
    "start_time": "2024-10-26T08:41:27.879Z"
   },
   {
    "duration": 5,
    "start_time": "2024-10-26T08:41:27.887Z"
   },
   {
    "duration": 4,
    "start_time": "2024-10-26T08:41:27.893Z"
   },
   {
    "duration": 70,
    "start_time": "2024-10-26T08:41:27.901Z"
   },
   {
    "duration": 9,
    "start_time": "2024-10-26T08:41:27.973Z"
   },
   {
    "duration": 4,
    "start_time": "2024-10-26T08:41:27.983Z"
   },
   {
    "duration": 5,
    "start_time": "2024-10-26T08:41:27.989Z"
   },
   {
    "duration": 48,
    "start_time": "2024-10-26T08:41:27.995Z"
   },
   {
    "duration": 9,
    "start_time": "2024-10-26T08:41:28.044Z"
   },
   {
    "duration": 947,
    "start_time": "2024-10-26T08:41:28.055Z"
   },
   {
    "duration": 6,
    "start_time": "2024-10-26T08:41:29.004Z"
   },
   {
    "duration": 5,
    "start_time": "2024-10-26T08:41:29.011Z"
   },
   {
    "duration": 5,
    "start_time": "2024-10-26T08:41:29.018Z"
   },
   {
    "duration": 175,
    "start_time": "2024-10-26T08:41:29.024Z"
   },
   {
    "duration": 17,
    "start_time": "2024-10-26T08:41:29.201Z"
   },
   {
    "duration": 202,
    "start_time": "2024-10-26T08:41:29.221Z"
   },
   {
    "duration": 5,
    "start_time": "2024-10-26T08:41:29.426Z"
   },
   {
    "duration": 412,
    "start_time": "2024-10-26T08:41:29.432Z"
   },
   {
    "duration": 67,
    "start_time": "2024-10-26T08:41:29.846Z"
   },
   {
    "duration": 32,
    "start_time": "2024-10-26T08:41:29.915Z"
   },
   {
    "duration": 230,
    "start_time": "2024-10-26T08:41:29.949Z"
   },
   {
    "duration": 4,
    "start_time": "2024-10-26T08:41:30.185Z"
   },
   {
    "duration": 438,
    "start_time": "2024-10-26T08:41:30.190Z"
   },
   {
    "duration": 2,
    "start_time": "2024-10-26T08:41:30.630Z"
   },
   {
    "duration": 13,
    "start_time": "2024-10-26T08:41:30.634Z"
   },
   {
    "duration": 10,
    "start_time": "2024-10-26T08:41:30.648Z"
   },
   {
    "duration": 3,
    "start_time": "2024-10-26T08:41:30.660Z"
   },
   {
    "duration": 21,
    "start_time": "2024-10-26T08:41:30.665Z"
   },
   {
    "duration": 5,
    "start_time": "2024-10-26T08:41:30.687Z"
   },
   {
    "duration": 216,
    "start_time": "2024-10-26T08:41:30.743Z"
   },
   {
    "duration": 5,
    "start_time": "2024-10-26T08:41:30.961Z"
   },
   {
    "duration": 4,
    "start_time": "2024-10-26T08:41:30.968Z"
   },
   {
    "duration": 9,
    "start_time": "2024-10-26T08:41:30.973Z"
   },
   {
    "duration": 21,
    "start_time": "2024-10-26T08:41:30.983Z"
   },
   {
    "duration": 49,
    "start_time": "2024-10-26T08:41:31.005Z"
   },
   {
    "duration": 230,
    "start_time": "2024-10-26T08:41:31.056Z"
   },
   {
    "duration": 5,
    "start_time": "2024-10-26T08:41:31.288Z"
   },
   {
    "duration": 449,
    "start_time": "2024-10-26T08:41:31.294Z"
   },
   {
    "duration": 6,
    "start_time": "2024-10-26T08:41:31.745Z"
   },
   {
    "duration": 48406,
    "start_time": "2024-10-26T08:41:31.753Z"
   },
   {
    "duration": 121,
    "start_time": "2024-10-26T08:42:20.162Z"
   },
   {
    "duration": 4,
    "start_time": "2024-10-26T08:42:20.285Z"
   },
   {
    "duration": 517,
    "start_time": "2024-10-26T08:42:20.291Z"
   },
   {
    "duration": 8,
    "start_time": "2024-10-26T08:42:20.810Z"
   },
   {
    "duration": 22872,
    "start_time": "2024-10-26T08:42:20.820Z"
   },
   {
    "duration": 118,
    "start_time": "2024-10-26T08:42:43.694Z"
   },
   {
    "duration": 4,
    "start_time": "2024-10-26T08:42:43.813Z"
   },
   {
    "duration": 634,
    "start_time": "2024-10-26T08:42:43.819Z"
   },
   {
    "duration": 309,
    "start_time": "2024-10-26T08:46:00.444Z"
   },
   {
    "duration": 899,
    "start_time": "2024-10-26T09:22:42.281Z"
   },
   {
    "duration": 16,
    "start_time": "2024-10-26T09:22:43.182Z"
   },
   {
    "duration": 11,
    "start_time": "2024-10-26T09:22:43.199Z"
   },
   {
    "duration": 7,
    "start_time": "2024-10-26T09:22:43.212Z"
   },
   {
    "duration": 3,
    "start_time": "2024-10-26T09:22:43.220Z"
   },
   {
    "duration": 4,
    "start_time": "2024-10-26T09:22:43.243Z"
   },
   {
    "duration": 6,
    "start_time": "2024-10-26T09:22:43.249Z"
   },
   {
    "duration": 4,
    "start_time": "2024-10-26T09:22:43.257Z"
   },
   {
    "duration": 3,
    "start_time": "2024-10-26T09:22:43.264Z"
   },
   {
    "duration": 19,
    "start_time": "2024-10-26T09:22:43.270Z"
   },
   {
    "duration": 6,
    "start_time": "2024-10-26T09:22:43.291Z"
   },
   {
    "duration": 3,
    "start_time": "2024-10-26T09:22:43.299Z"
   },
   {
    "duration": 41,
    "start_time": "2024-10-26T09:22:43.304Z"
   },
   {
    "duration": 20,
    "start_time": "2024-10-26T09:22:43.347Z"
   },
   {
    "duration": 5,
    "start_time": "2024-10-26T09:22:43.368Z"
   },
   {
    "duration": 983,
    "start_time": "2024-10-26T09:22:43.376Z"
   },
   {
    "duration": 4,
    "start_time": "2024-10-26T09:22:44.361Z"
   },
   {
    "duration": 5,
    "start_time": "2024-10-26T09:22:44.367Z"
   },
   {
    "duration": 4,
    "start_time": "2024-10-26T09:22:44.374Z"
   },
   {
    "duration": 173,
    "start_time": "2024-10-26T09:22:44.380Z"
   },
   {
    "duration": 18,
    "start_time": "2024-10-26T09:22:44.555Z"
   },
   {
    "duration": 224,
    "start_time": "2024-10-26T09:22:44.580Z"
   },
   {
    "duration": 5,
    "start_time": "2024-10-26T09:22:44.806Z"
   },
   {
    "duration": 439,
    "start_time": "2024-10-26T09:22:44.813Z"
   },
   {
    "duration": 66,
    "start_time": "2024-10-26T09:22:45.254Z"
   },
   {
    "duration": 9,
    "start_time": "2024-10-26T09:22:45.342Z"
   },
   {
    "duration": 235,
    "start_time": "2024-10-26T09:22:45.352Z"
   },
   {
    "duration": 4,
    "start_time": "2024-10-26T09:22:45.593Z"
   },
   {
    "duration": 434,
    "start_time": "2024-10-26T09:22:45.599Z"
   },
   {
    "duration": 8,
    "start_time": "2024-10-26T09:22:46.036Z"
   },
   {
    "duration": 6,
    "start_time": "2024-10-26T09:22:46.045Z"
   },
   {
    "duration": 10,
    "start_time": "2024-10-26T09:22:46.053Z"
   },
   {
    "duration": 2,
    "start_time": "2024-10-26T09:22:46.066Z"
   },
   {
    "duration": 24,
    "start_time": "2024-10-26T09:22:46.070Z"
   },
   {
    "duration": 48,
    "start_time": "2024-10-26T09:22:46.095Z"
   },
   {
    "duration": 210,
    "start_time": "2024-10-26T09:22:46.145Z"
   },
   {
    "duration": 5,
    "start_time": "2024-10-26T09:22:46.356Z"
   },
   {
    "duration": 3,
    "start_time": "2024-10-26T09:22:46.363Z"
   },
   {
    "duration": 8,
    "start_time": "2024-10-26T09:22:46.368Z"
   },
   {
    "duration": 21,
    "start_time": "2024-10-26T09:22:46.378Z"
   },
   {
    "duration": 42,
    "start_time": "2024-10-26T09:22:46.401Z"
   },
   {
    "duration": 226,
    "start_time": "2024-10-26T09:22:46.445Z"
   },
   {
    "duration": 5,
    "start_time": "2024-10-26T09:22:46.672Z"
   },
   {
    "duration": 427,
    "start_time": "2024-10-26T09:22:46.679Z"
   },
   {
    "duration": 7,
    "start_time": "2024-10-26T09:22:47.108Z"
   },
   {
    "duration": 48481,
    "start_time": "2024-10-26T09:22:47.117Z"
   },
   {
    "duration": 121,
    "start_time": "2024-10-26T09:23:35.600Z"
   },
   {
    "duration": 4,
    "start_time": "2024-10-26T09:23:35.723Z"
   },
   {
    "duration": 514,
    "start_time": "2024-10-26T09:23:35.729Z"
   },
   {
    "duration": 9,
    "start_time": "2024-10-26T09:23:36.245Z"
   },
   {
    "duration": 22946,
    "start_time": "2024-10-26T09:23:36.255Z"
   },
   {
    "duration": 130,
    "start_time": "2024-10-26T09:23:59.203Z"
   },
   {
    "duration": 11,
    "start_time": "2024-10-26T09:23:59.335Z"
   },
   {
    "duration": 306,
    "start_time": "2024-10-26T09:23:59.348Z"
   },
   {
    "duration": 2631,
    "start_time": "2024-10-26T15:50:30.912Z"
   },
   {
    "duration": 21,
    "start_time": "2024-10-26T15:50:33.546Z"
   },
   {
    "duration": 10,
    "start_time": "2024-10-26T15:50:33.568Z"
   },
   {
    "duration": 6,
    "start_time": "2024-10-26T15:50:33.581Z"
   },
   {
    "duration": 4,
    "start_time": "2024-10-26T15:50:33.588Z"
   },
   {
    "duration": 5,
    "start_time": "2024-10-26T15:50:33.593Z"
   },
   {
    "duration": 30,
    "start_time": "2024-10-26T15:50:33.599Z"
   },
   {
    "duration": 4,
    "start_time": "2024-10-26T15:50:33.631Z"
   },
   {
    "duration": 3,
    "start_time": "2024-10-26T15:50:33.638Z"
   },
   {
    "duration": 19,
    "start_time": "2024-10-26T15:50:33.645Z"
   },
   {
    "duration": 5,
    "start_time": "2024-10-26T15:50:33.666Z"
   },
   {
    "duration": 4,
    "start_time": "2024-10-26T15:50:33.673Z"
   },
   {
    "duration": 5,
    "start_time": "2024-10-26T15:50:33.678Z"
   },
   {
    "duration": 67,
    "start_time": "2024-10-26T15:50:33.684Z"
   },
   {
    "duration": 6,
    "start_time": "2024-10-26T15:50:33.753Z"
   },
   {
    "duration": 890,
    "start_time": "2024-10-26T15:50:33.760Z"
   },
   {
    "duration": 5,
    "start_time": "2024-10-26T15:50:34.652Z"
   },
   {
    "duration": 5,
    "start_time": "2024-10-26T15:50:34.659Z"
   },
   {
    "duration": 4,
    "start_time": "2024-10-26T15:50:34.666Z"
   },
   {
    "duration": 119,
    "start_time": "2024-10-26T15:50:34.672Z"
   },
   {
    "duration": 37,
    "start_time": "2024-10-26T15:50:34.793Z"
   },
   {
    "duration": 217,
    "start_time": "2024-10-26T15:50:34.831Z"
   },
   {
    "duration": 6,
    "start_time": "2024-10-26T15:50:35.049Z"
   },
   {
    "duration": 435,
    "start_time": "2024-10-26T15:50:35.056Z"
   },
   {
    "duration": 49,
    "start_time": "2024-10-26T15:50:35.493Z"
   },
   {
    "duration": 5,
    "start_time": "2024-10-26T15:50:35.544Z"
   },
   {
    "duration": 239,
    "start_time": "2024-10-26T15:50:35.550Z"
   },
   {
    "duration": 5,
    "start_time": "2024-10-26T15:50:35.794Z"
   },
   {
    "duration": 457,
    "start_time": "2024-10-26T15:50:35.800Z"
   },
   {
    "duration": 3,
    "start_time": "2024-10-26T15:50:36.259Z"
   },
   {
    "duration": 4,
    "start_time": "2024-10-26T15:50:36.264Z"
   },
   {
    "duration": 9,
    "start_time": "2024-10-26T15:50:36.269Z"
   },
   {
    "duration": 3,
    "start_time": "2024-10-26T15:50:36.279Z"
   },
   {
    "duration": 64,
    "start_time": "2024-10-26T15:50:36.284Z"
   },
   {
    "duration": 5,
    "start_time": "2024-10-26T15:50:36.349Z"
   },
   {
    "duration": 236,
    "start_time": "2024-10-26T15:50:36.356Z"
   },
   {
    "duration": 5,
    "start_time": "2024-10-26T15:50:36.594Z"
   },
   {
    "duration": 4,
    "start_time": "2024-10-26T15:50:36.600Z"
   },
   {
    "duration": 25,
    "start_time": "2024-10-26T15:50:36.605Z"
   },
   {
    "duration": 17,
    "start_time": "2024-10-26T15:50:36.631Z"
   },
   {
    "duration": 6,
    "start_time": "2024-10-26T15:50:36.652Z"
   },
   {
    "duration": 203,
    "start_time": "2024-10-26T15:50:36.724Z"
   },
   {
    "duration": 5,
    "start_time": "2024-10-26T15:50:36.930Z"
   },
   {
    "duration": 437,
    "start_time": "2024-10-26T15:50:36.936Z"
   },
   {
    "duration": 6,
    "start_time": "2024-10-26T15:50:37.375Z"
   },
   {
    "duration": 41701,
    "start_time": "2024-10-26T15:50:37.383Z"
   },
   {
    "duration": 125,
    "start_time": "2024-10-26T15:51:19.086Z"
   },
   {
    "duration": 12,
    "start_time": "2024-10-26T15:51:19.213Z"
   },
   {
    "duration": 438,
    "start_time": "2024-10-26T15:51:19.226Z"
   },
   {
    "duration": 8,
    "start_time": "2024-10-26T15:51:19.666Z"
   },
   {
    "duration": 20556,
    "start_time": "2024-10-26T15:51:19.675Z"
   },
   {
    "duration": 115,
    "start_time": "2024-10-26T15:51:40.233Z"
   },
   {
    "duration": 5,
    "start_time": "2024-10-26T15:51:40.350Z"
   },
   {
    "duration": 282,
    "start_time": "2024-10-26T15:51:40.356Z"
   },
   {
    "duration": 907,
    "start_time": "2024-10-26T15:56:56.264Z"
   },
   {
    "duration": 15,
    "start_time": "2024-10-26T15:56:57.173Z"
   },
   {
    "duration": 10,
    "start_time": "2024-10-26T15:56:57.189Z"
   },
   {
    "duration": 7,
    "start_time": "2024-10-26T15:56:57.201Z"
   },
   {
    "duration": 3,
    "start_time": "2024-10-26T15:56:57.223Z"
   },
   {
    "duration": 4,
    "start_time": "2024-10-26T15:56:57.228Z"
   },
   {
    "duration": 6,
    "start_time": "2024-10-26T15:56:57.234Z"
   },
   {
    "duration": 4,
    "start_time": "2024-10-26T15:56:57.242Z"
   },
   {
    "duration": 4,
    "start_time": "2024-10-26T15:56:57.248Z"
   },
   {
    "duration": 19,
    "start_time": "2024-10-26T15:56:57.253Z"
   },
   {
    "duration": 6,
    "start_time": "2024-10-26T15:56:57.273Z"
   },
   {
    "duration": 3,
    "start_time": "2024-10-26T15:56:57.281Z"
   },
   {
    "duration": 42,
    "start_time": "2024-10-26T15:56:57.285Z"
   },
   {
    "duration": 29,
    "start_time": "2024-10-26T15:56:57.331Z"
   },
   {
    "duration": 6,
    "start_time": "2024-10-26T15:56:57.361Z"
   },
   {
    "duration": 895,
    "start_time": "2024-10-26T15:56:57.368Z"
   },
   {
    "duration": 6,
    "start_time": "2024-10-26T15:56:58.264Z"
   },
   {
    "duration": 5,
    "start_time": "2024-10-26T15:56:58.271Z"
   },
   {
    "duration": 4,
    "start_time": "2024-10-26T15:56:58.278Z"
   },
   {
    "duration": 161,
    "start_time": "2024-10-26T15:56:58.283Z"
   },
   {
    "duration": 28,
    "start_time": "2024-10-26T15:56:58.446Z"
   },
   {
    "duration": 217,
    "start_time": "2024-10-26T15:56:58.476Z"
   },
   {
    "duration": 5,
    "start_time": "2024-10-26T15:56:58.695Z"
   },
   {
    "duration": 434,
    "start_time": "2024-10-26T15:56:58.701Z"
   },
   {
    "duration": 43,
    "start_time": "2024-10-26T15:56:59.136Z"
   },
   {
    "duration": 43,
    "start_time": "2024-10-26T15:56:59.181Z"
   },
   {
    "duration": 223,
    "start_time": "2024-10-26T15:56:59.226Z"
   },
   {
    "duration": 5,
    "start_time": "2024-10-26T15:56:59.450Z"
   },
   {
    "duration": 424,
    "start_time": "2024-10-26T15:56:59.457Z"
   },
   {
    "duration": 3,
    "start_time": "2024-10-26T15:56:59.882Z"
   },
   {
    "duration": 4,
    "start_time": "2024-10-26T15:56:59.886Z"
   },
   {
    "duration": 8,
    "start_time": "2024-10-26T15:56:59.892Z"
   },
   {
    "duration": 23,
    "start_time": "2024-10-26T15:56:59.901Z"
   },
   {
    "duration": 46,
    "start_time": "2024-10-26T15:56:59.926Z"
   },
   {
    "duration": 6,
    "start_time": "2024-10-26T15:56:59.973Z"
   },
   {
    "duration": 214,
    "start_time": "2024-10-26T15:56:59.980Z"
   },
   {
    "duration": 4,
    "start_time": "2024-10-26T15:57:00.196Z"
   },
   {
    "duration": 22,
    "start_time": "2024-10-26T15:57:00.202Z"
   },
   {
    "duration": 8,
    "start_time": "2024-10-26T15:57:00.226Z"
   },
   {
    "duration": 17,
    "start_time": "2024-10-26T15:57:00.235Z"
   },
   {
    "duration": 5,
    "start_time": "2024-10-26T15:57:00.257Z"
   },
   {
    "duration": 234,
    "start_time": "2024-10-26T15:57:00.264Z"
   },
   {
    "duration": 5,
    "start_time": "2024-10-26T15:57:00.500Z"
   },
   {
    "duration": 434,
    "start_time": "2024-10-26T15:57:00.506Z"
   },
   {
    "duration": 6,
    "start_time": "2024-10-26T15:57:00.942Z"
   },
   {
    "duration": 41738,
    "start_time": "2024-10-26T15:57:00.949Z"
   },
   {
    "duration": 123,
    "start_time": "2024-10-26T15:57:42.689Z"
   },
   {
    "duration": 4,
    "start_time": "2024-10-26T15:57:42.814Z"
   },
   {
    "duration": 644,
    "start_time": "2024-10-26T15:57:42.824Z"
   },
   {
    "duration": 7,
    "start_time": "2024-10-26T15:57:43.470Z"
   },
   {
    "duration": 20691,
    "start_time": "2024-10-26T15:57:43.478Z"
   },
   {
    "duration": 121,
    "start_time": "2024-10-26T15:58:04.171Z"
   },
   {
    "duration": 5,
    "start_time": "2024-10-26T15:58:04.293Z"
   },
   {
    "duration": 290,
    "start_time": "2024-10-26T15:58:04.299Z"
   }
  ],
  "kernelspec": {
   "display_name": "Python 3 (ipykernel)",
   "language": "python",
   "name": "python3"
  },
  "language_info": {
   "codemirror_mode": {
    "name": "ipython",
    "version": 3
   },
   "file_extension": ".py",
   "mimetype": "text/x-python",
   "name": "python",
   "nbconvert_exporter": "python",
   "pygments_lexer": "ipython3",
   "version": "3.9.19"
  },
  "toc": {
   "base_numbering": 1,
   "nav_menu": {},
   "number_sections": true,
   "sideBar": true,
   "skip_h1_title": true,
   "title_cell": "Table of Contents",
   "title_sidebar": "Contents",
   "toc_cell": false,
   "toc_position": {},
   "toc_section_display": true,
   "toc_window_display": false
  }
 },
 "nbformat": 4,
 "nbformat_minor": 2
}
